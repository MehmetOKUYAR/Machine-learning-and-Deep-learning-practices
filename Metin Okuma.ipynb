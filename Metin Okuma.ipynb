{
 "cells": [
  {
   "cell_type": "markdown",
   "metadata": {},
   "source": [
    "# Resimdeki Metinleri okumak\n",
    "> İlgili yazılımı kurmak için aşağıdaki bağlantıyı kullanabilirsiniz: \n",
    "\n",
    "https://github.com/UB-Mannheim/tesseract/wiki\n",
    "\n",
    "PI Tesseract kütüphanesini kullanacağız\n"
   ]
  },
  {
   "cell_type": "markdown",
   "metadata": {},
   "source": [
    "# Gerekli kütüphanelerin indirilmesi"
   ]
  },
  {
   "cell_type": "markdown",
   "metadata": {},
   "source": [
    "pip install tesseract-ocr"
   ]
  },
  {
   "cell_type": "markdown",
   "metadata": {},
   "source": [
    "pip install tesseract"
   ]
  },
  {
   "cell_type": "markdown",
   "metadata": {},
   "source": [
    "pip install pytesseract"
   ]
  },
  {
   "cell_type": "code",
   "execution_count": 12,
   "metadata": {},
   "outputs": [
    {
     "name": "stdout",
     "output_type": "stream",
     "text": [
      "MAZERETLi DERSE YAZILMA\n",
      "\n",
      " \n",
      "\n",
      "2020-2021 Egitim-Ogretim Giiz Donemi, Mazeretli Derse Yazilmalar 21-25 Eyliil 2020 tarihleri arasinda yapilacaktir. Ogrencilerimizin dilekceleri ve eklerini SUBU uzantili e-mail\n",
      "adreslerinden asagida belirtilen danismanlarina iletmeleri gerekmektedir.\n",
      "\n",
      "ilgili 6grencilerimize duyurulur.\n",
      "\n",
      "TUM BOLUMLER danisman listeleri.docx\n",
      "\f",
      "\n"
     ]
    }
   ],
   "source": [
    "from PIL import Image\n",
    "import pytesseract\n",
    "\n",
    "#tesserecact uygulamasının yolunu belirtmemiz gerekiyor\n",
    "pytesseract.pytesseract.tesseract_cmd = r'C:\\Program Files (x86)\\Tesseract-OCR\\tesseract.exe'\n",
    "\n",
    "im = Image.open(r\"C:\\Users\\MEHMET\\Desktop\\mazaretli derse yazılma.png\")\n",
    "\n",
    "text = pytesseract.image_to_string(im, lang = 'eng')\n",
    "\n",
    "print(text)"
   ]
  },
  {
   "cell_type": "markdown",
   "metadata": {},
   "source": [
    "# Plaka okutmak"
   ]
  },
  {
   "cell_type": "markdown",
   "metadata": {},
   "source": [
    "pip install imutils"
   ]
  },
  {
   "cell_type": "code",
   "execution_count": 4,
   "metadata": {
    "scrolled": true
   },
   "outputs": [
    {
     "name": "stdout",
     "output_type": "stream",
     "text": [
      "5830.0\n",
      "detected text:  300 SL 1957\n",
      "\f",
      "\n"
     ]
    }
   ],
   "source": [
    "#♣gerekli kütüphaneleri ekliyoruz\n",
    "import pytesseract\n",
    "import cv2\n",
    "import numpy as np\n",
    "import imutils\n",
    "#tesserecact uygulamasının yolunu belirtmemiz gerekiyor\n",
    "pytesseract.pytesseract.tesseract_cmd = r'C:\\Program Files (x86)\\Tesseract-OCR\\tesseract.exe'\n",
    "\n",
    "img = cv2.imread(\"resimler/9.1 licence_plate.jpg.jpg\")\n",
    "\n",
    "gray =cv2.cvtColor(img,cv2.COLOR_BGR2GRAY) #Gri tona çevirdik\n",
    "\n",
    "filtered = cv2.bilateralFilter(gray,6,77,85) # plaka dışındaki yerlerin keskin hatlarını yumuşatmaya çalışıyoruz\n",
    "\n",
    "edged = cv2.Canny(filtered,400,400) # kenarları çıkarttık\n",
    "\n",
    "contours = cv2.findContours(edged,cv2.RETR_TREE,cv2.CHAIN_APPROX_SIMPLE)\n",
    "\n",
    "cnts = imutils.grab_contours(contours) # uygun kontur değerini alır\n",
    "cnts = sorted(cnts,key =cv2.contourArea,reverse=True)[:10] # Konturları alanlarına göre en büyükten en küçüğe doğru sıralar.\n",
    "screen = None\n",
    "\n",
    "# dört kenarlı kapalı bir şekil bulmaya çalışacağız\n",
    "for c in cnts:\n",
    "    epsilon = 0.018*cv2.arcLength(c,True) #konturların yay uzunluğu bulunuyor\n",
    "    approx = cv2.approxPolyDP(c,epsilon,True) #konturlara yakınlaşmamızı sağlar\n",
    "    if len(approx) == 4: # birbirine yakınlaşmış dört kordinatı saptatıyoruz\n",
    "        screen = approx\n",
    "        break\n",
    "print(cv2.contourArea(screen))        \n",
    "mask = np.zeros(gray.shape,np.uint8)\n",
    "new_img = cv2.drawContours(mask,[screen],0,(255,255,255),-1)\n",
    "new_img = cv2.bitwise_and(img,img,mask=mask) #mask alanına img yapıştırılıyor\n",
    "\n",
    "(x,y) = np.where(mask == 255) #maske'deki beyaz alanların konumunu bul ve bize döndür\n",
    "(topx,topy) =(np.min(x),np.min(y))\n",
    "(bottomx,bottomy) = (np.max(x),np.max(y))\n",
    "#maske sayesinde elde ettiğimiz beyaz konumları alarak orjinal resimden plakayı rahatlıkla kesip alabildik\n",
    "cropped = gray[topx:bottomx+1,topy:bottomy+1] \n",
    " \n",
    "    \n",
    "text = pytesseract.image_to_string(cropped,lang=\"tur\")    \n",
    "print(\"detected text: \",text)\n",
    "\n",
    "cv2.putText(img,text,(topx,topy),cv2.FONT_HERSHEY_SIMPLEX,1,(0,255,0),2)\n",
    "\n",
    "\n",
    "cv2.imshow(\"1. original\",img)\n",
    "cv2.imshow(\"2. gray\",gray)\n",
    "cv2.imshow(\"3. filtered\",filtered)\n",
    "cv2.imshow(\"4. edged\",edged)\n",
    "cv2.imshow(\"5. new_img\",new_img)\n",
    "cv2.imshow(\"5. kontur alani\",cropped)\n",
    "cv2.waitKey(0)\n",
    "cv2.destroyAllWindows()"
   ]
  },
  {
   "cell_type": "code",
   "execution_count": null,
   "metadata": {},
   "outputs": [],
   "source": []
  },
  {
   "cell_type": "code",
   "execution_count": null,
   "metadata": {},
   "outputs": [],
   "source": []
  }
 ],
 "metadata": {
  "kernelspec": {
   "display_name": "Python 3",
   "language": "python",
   "name": "python3"
  },
  "language_info": {
   "codemirror_mode": {
    "name": "ipython",
    "version": 3
   },
   "file_extension": ".py",
   "mimetype": "text/x-python",
   "name": "python",
   "nbconvert_exporter": "python",
   "pygments_lexer": "ipython3",
   "version": "3.8.3"
  }
 },
 "nbformat": 4,
 "nbformat_minor": 4
}
