{
 "cells": [
  {
   "cell_type": "markdown",
   "metadata": {},
   "source": [
    "###### Kare : Videonun herhangi bir anındaki resimdir.\n",
    "###### Video: Birçok karenin bir araya gelmesidir."
   ]
  },
  {
   "cell_type": "code",
   "execution_count": 2,
   "metadata": {},
   "outputs": [],
   "source": [
    "import cv2"
   ]
  },
  {
   "cell_type": "markdown",
   "metadata": {},
   "source": [
    "## Kameradan Video Okuma"
   ]
  },
  {
   "cell_type": "code",
   "execution_count": 3,
   "metadata": {},
   "outputs": [],
   "source": [
    "cap = cv2.VideoCapture(0) # videocaptura sıfır diyerek kameradan görüntü alacağımızı belirtilir\n",
    "\n",
    "# her bir kare sonsuz bir while döngüsü ile yakalayarak video oluşturuyoruz.\n",
    "while True:\n",
    "    ret,frame = cap.read() # cap.read() sağlıklı bi şekilde görüntü okuduğunda true değerleri göndererek ret hafızasında saklanır\n",
    "    \n",
    "    #flipcode = 0: flip vertically\n",
    "    #flipcode > 0: flip horizontally\n",
    "    #flipcode < 0: flip vertically and horizontally\n",
    "    \n",
    "    frame = cv2.flip(frame,1)  #cv2.flip kodu ile görüntünün eksenlere göre tersini alabiliriz\n",
    "    \n",
    "    cv2.imshow(\"webcam\",frame)\n",
    "    \n",
    "    #burada waitkey içine girlen sayı her bir karenin kaç milisaniye gösterileceğidir\n",
    "    if cv2.waitKey(1) & 0xFF == ord(\"q\"): #0xFF q'nun makine dilinde ki karşılığıdır\n",
    "        break\n",
    "cap.release() \n",
    "cv2.destroyAllWindows()"
   ]
  },
  {
   "cell_type": "markdown",
   "metadata": {},
   "source": [
    "## Pc'den kayıtlı Video okuma"
   ]
  },
  {
   "cell_type": "code",
   "execution_count": 6,
   "metadata": {},
   "outputs": [],
   "source": [
    "cap = cv2.VideoCapture(\"antalya.mp4\") # pc deki video adını belirttik.\n",
    "\n",
    "# her bir kare sonsuz bir while döngüsü ile yakalayarak video oluşturuyoruz.\n",
    "while True:\n",
    "    ret,frame = cap.read() # cap.read() sağlıklı bi şekilde görüntü okuduğunda true değerleri göndererek ret hafızasında saklanır\n",
    "    \n",
    "    #video bittiğinde ret de sıfır dönecek ve sağlıklı bi şekide videodan çıkabileceğiz bunuda if komutu ile algıladık\n",
    "    if ret==0:\n",
    "        break\n",
    "        \n",
    "    \n",
    "    cv2.imshow(\"Antalya\",frame)\n",
    "    \n",
    "    #burada waitkey içine girlen sayı her bir karenin kaç milisaniye gösterileceğidir\n",
    "    if cv2.waitKey(10) & 0xFF == ord(\"q\"): #0xFF q'nun makine dilinde ki karşılığıdır\n",
    "        break\n",
    "cap.release() \n",
    "cv2.destroyAllWindows()"
   ]
  },
  {
   "cell_type": "markdown",
   "metadata": {},
   "source": [
    "# Kameradan aldığımız görüntüyü kaydetme"
   ]
  },
  {
   "cell_type": "markdown",
   "metadata": {},
   "source": [
    "###### FOURCC nedir?\n",
    "FOURCC, \"dört karakterli kod\" un kısaltmasıdır - bir video codec bileşeni, sıkıştırma formatı, medya dosyalarında kullanılan renk veya piksel formatı için bir tanımlayıcı.\n",
    "\n",
    "Bu bağlamdaki bir karakter 1 bayt / 8 bitlik bir değerdir, bu nedenle bir FOURCC bir dosyada her zaman tam olarak 32 bit / 4 bayt yer kaplar.\n",
    "\n",
    "FOURCC yazmanın başka bir yolu 4CC'dir (\"dört\" karakter kodunda olduğu gibi 4).\n",
    "\n",
    "Bir FOURCC'deki dört karakter, genellikle ASCII tablosundaki insan tarafından okunabilir karakterlerle sınırlıdır. Bu nedenle, FOURCC'lerin bir medya dosyasında ne olduğunu iletmek ve iletmek kolaydır.\n",
    "\n",
    "AVI dosyaları, dosyalardaki çeşitli video / ses akışlarını sıkıştırmak için kullanılan kodekler için FOURCC tanımlayıcılarını kullanan en yaygın veya ilk yaygın olarak kullanılan medya dosyası formatıdır.\n",
    "\n",
    "Daha iyi bilinen FOURCC'lerin bazıları \"DIVX\", \"XVID\", \"H264\", \"DX50\" içerir. Ancak bunlar kullanımda olan yüzlerceden sadece birkaçı .\n",
    "\n",
    "Kaynak : http://www.fourcc.org/fourcc.php"
   ]
  },
  {
   "cell_type": "code",
   "execution_count": 8,
   "metadata": {},
   "outputs": [],
   "source": [
    "cap = cv2.VideoCapture(0) # videocaptura sıfır diyerek kameradan görüntü alacağımızı belirtilir\n",
    "\n",
    "# her bir kare sonsuz bir while döngüsü ile yakalayarak video oluşturuyoruz.\n",
    "\n",
    "fileName = \"webcam.avi\" # dosyanın adını ,uzantısı ve kaydedilecek konumunu veriyoruz\n",
    "codec =cv2.VideoWriter_fourcc('W','M','V','2')\n",
    "frameRate=30\n",
    "resolution=(640,480)\n",
    "videoFileOutput =cv2.VideoWriter(fileName,codec,frameRate,resolution) #\n",
    "\n",
    "while True:\n",
    "    ret,frame = cap.read() # cap.read() sağlıklı bi şekilde görüntü okuduğunda true değerleri göndererek ret hafızasında saklanır\n",
    "    \n",
    "    videoFileOutput.write(frame) # her bir kareyi dosyanını içine aktarır\n",
    "    \n",
    "    #flipcode = 0: flip y eksenine göre yansımasını alır\n",
    "    #flipcode > 0: flip x eksenine yansımasını alır\n",
    "    #flipcode < 0: flip x ve y eksenine göre yansımasını alır\n",
    "    \n",
    "    frame = cv2.flip(frame,1)  #cv2.flip kodu ile görüntünün eksenlere göre tersini alabiliriz\n",
    "    \n",
    "    cv2.imshow(\"Webcam Live\",frame)\n",
    "    \n",
    "    #burada waitkey içine girlen sayı her bir karenin kaç milisaniye gösterileceğidir\n",
    "    if cv2.waitKey(1) & 0xFF == ord(\"q\"): #0xFF q'nun makine dilinde ki karşılığıdır\n",
    "        break\n",
    "        \n",
    "videoFileOutput.release() # kaydetmeyi sonlandır\n",
    "cap.release() #videoyu serbest bırakıyoruz yani sonlandırıyoruz\n",
    "cv2.destroyAllWindows()"
   ]
  },
  {
   "cell_type": "markdown",
   "metadata": {},
   "source": [
    "# Telefonun kamerasından video görüntüsü alma"
   ]
  },
  {
   "cell_type": "code",
   "execution_count": 6,
   "metadata": {},
   "outputs": [],
   "source": [
    "import cv2\n",
    "import numpy as np\n",
    "import requests #Url modülü\n",
    "\n",
    "#telefonda IP Webcam uygulaması olması gerekmektedir.\n",
    "url = \"http://192.168.137.250:8080//shot.jpg\"  #tel'den görüntünün anlık karelerini alacacğız \n",
    "\n",
    "while True:\n",
    "    img_resp = requests.get(url) # Url'ye istek gönderiyoruz ve url'den görüntüleri alıyoruz\n",
    "    img_arr = np.array(bytearray(img_resp.content), dtype = np.uint8) #array olarak dönüştürüyoruz\n",
    "    img = cv2.imdecode(img_arr,cv2.IMREAD_COLOR) \n",
    "    img = cv2.resize(img,(640,480)) #resize ile boyutlandırıyoruz\n",
    "    \n",
    "    cv2.imshow(\"Android Camera\",img ) # ekranda göster\n",
    "    \n",
    "     #burada waitkey içine girlen sayı her bir karenin kaç milisaniye gösterileceğidir\n",
    "    if cv2.waitKey(1) & 0xFF == ord(\"q\"): #0xFF q'nun makine dilinde ki karşılığıdır\n",
    "        break\n",
    "\n",
    "cv2.destroyAllWindows()"
   ]
  },
  {
   "cell_type": "markdown",
   "metadata": {},
   "source": [
    "# kameradan foto çekmek"
   ]
  },
  {
   "cell_type": "code",
   "execution_count": 29,
   "metadata": {},
   "outputs": [
    {
     "name": "stdout",
     "output_type": "stream",
     "text": [
      "foto resimler dosyasına kaydedildi\n"
     ]
    }
   ],
   "source": [
    "import cv2\n",
    "cap = cv2.VideoCapture(0) # videocaptura sıfır diyerek kameradan görüntü alacağımızı belirtilir\n",
    "\n",
    "\n",
    "# her bir kare sonsuz bir while döngüsü ile yakalayarak video oluşturuyoruz.\n",
    "while True:\n",
    "    ret,frame = cap.read() # cap.read() sağlıklı bi şekilde görüntü okuduğunda true değerleri göndererek ret hafızasında saklanır\n",
    "    \n",
    "    #flipcode = 0: flip vertically\n",
    "    #flipcode > 0: flip horizontally\n",
    "    #flipcode < 0: flip vertically and horizontally\n",
    "    \n",
    "    frame = cv2.flip(frame,1)  #cv2.flip kodu ile görüntünün eksenlere göre tersini alabiliriz\n",
    "    roi = frame[100:300,250:450] # frame[y1:y2,x1:x2] ilgili alan roi\n",
    "\n",
    "    cv2.imshow(\"webcam\",frame)\n",
    "    cv2.imshow(\"roi\",roi)\n",
    "    \n",
    "    #burada waitkey içine girlen sayı her bir karenin kaç milisaniye gösterileceğidir\n",
    "    if cv2.waitKey(1) & 0xFF == ord(\"q\"): #0xFF q'nun makine dilinde ki karşılığıdır\n",
    "        cv2.imwrite('resimler/mehmet/n/205.png',roi)#Kaydet\n",
    "        print(\"foto resimler dosyasına kaydedildi\")\n",
    "        break\n",
    "\n",
    "\n",
    "cap.release() \n",
    "cv2.destroyAllWindows()"
   ]
  },
  {
   "cell_type": "code",
   "execution_count": 15,
   "metadata": {},
   "outputs": [
    {
     "name": "stdout",
     "output_type": "stream",
     "text": [
      "foto resimler dosyasına kaydedildi\n"
     ]
    }
   ],
   "source": [
    "import cv2\n",
    "import numpy as np\n",
    "import requests #Url modülü\n",
    "\n",
    "#telefonda IP Webcam uygulaması olması gerekmektedir.\n",
    "url = \"http://192.168.137.124:8080//shot.jpg\"  #tel'den görüntünün anlık karelerini alacacğız \n",
    "\n",
    "\n",
    "# her bir kare sonsuz bir while döngüsü ile yakalayarak video oluşturuyoruz.\n",
    "while True:\n",
    "    img_resp = requests.get(url) # Url'ye istek gönderiyoruz ve url'den görüntüleri alıyoruz\n",
    "    img_arr = np.array(bytearray(img_resp.content), dtype = np.uint8) #array olarak dönüştürüyoruz\n",
    "    img = cv2.imdecode(img_arr,cv2.IMREAD_COLOR) \n",
    "    frame = cv2.resize(img,(640,480)) #resize ile boyutlandırıyoruz\n",
    "    \n",
    "    frame = cv2.flip(frame,1)  #cv2.flip kodu ile görüntünün eksenlere göre tersini alabiliriz\n",
    "    roi = frame[100:300,250:450] # frame[y1:y2,x1:x2] ilgili alan roi\n",
    "\n",
    "    #cv2.imshow(\"webcam\",frame)\n",
    "    cv2.imshow(\"roi\",roi)\n",
    "    \n",
    "    #burada waitkey içine girlen sayı her bir karenin kaç milisaniye gösterileceğidir\n",
    "    if cv2.waitKey(1) & 0xFF == ord(\"q\"): #0xFF q'nun makine dilinde ki karşılığıdır\n",
    "        cv2.imwrite('resimler/mehmet/p/212.png',roi)#Kaydet\n",
    "        print(\"foto resimler dosyasına kaydedildi\")\n",
    "        break\n",
    "\n",
    "\n",
    "cv2.destroyAllWindows()"
   ]
  },
  {
   "cell_type": "code",
   "execution_count": null,
   "metadata": {},
   "outputs": [],
   "source": []
  }
 ],
 "metadata": {
  "kernelspec": {
   "display_name": "Python 3",
   "language": "python",
   "name": "python3"
  },
  "language_info": {
   "codemirror_mode": {
    "name": "ipython",
    "version": 3
   },
   "file_extension": ".py",
   "mimetype": "text/x-python",
   "name": "python",
   "nbconvert_exporter": "python",
   "pygments_lexer": "ipython3",
   "version": "3.8.3"
  }
 },
 "nbformat": 4,
 "nbformat_minor": 4
}
