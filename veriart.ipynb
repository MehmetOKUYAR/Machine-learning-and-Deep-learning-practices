{
 "cells": [
  {
   "cell_type": "code",
   "execution_count": 2,
   "metadata": {},
   "outputs": [],
   "source": [
    "from keras.preprocessing.image import ImageDataGenerator, array_to_img, img_to_array, load_img"
   ]
  },
  {
   "cell_type": "markdown",
   "metadata": {},
   "source": [
    "#veri arttırma tekniklerini kullanıyoruz ,keras dökümanları sitesinden araçlar çoğaltılabilir https://keras.io/api/preprocessing/image/"
   ]
  },
  {
   "cell_type": "raw",
   "metadata": {},
   "source": [
    "# GENEL BÜTÜN KODLAR\n",
    "\n",
    "tf.keras.preprocessing.image.ImageDataGenerator(\n",
    "    featurewise_center=False,\n",
    "    samplewise_center=False,\n",
    "    featurewise_std_normalization=False,\n",
    "    samplewise_std_normalization=False,\n",
    "    zca_whitening=False,\n",
    "    zca_epsilon=1e-06,\n",
    "    rotation_range=0,\n",
    "    width_shift_range=0.0,\n",
    "    height_shift_range=0.0,\n",
    "    brightness_range=None,\n",
    "    shear_range=0.0,\n",
    "    zoom_range=0.0,\n",
    "    channel_shift_range=0.0,\n",
    "    fill_mode=\"nearest\",\n",
    "    cval=0.0,\n",
    "    horizontal_flip=False,\n",
    "    vertical_flip=False,\n",
    "    rescale=None,\n",
    "    preprocessing_function=None,\n",
    "    data_format=None,\n",
    "    validation_split=0.0,\n",
    "    dtype=None,\n",
    ")"
   ]
  },
  {
   "cell_type": "code",
   "execution_count": 3,
   "metadata": {},
   "outputs": [],
   "source": [
    "datagen = ImageDataGenerator(rotation_range=40,      #döndür\n",
    "                             \n",
    "                             \n",
    "                             shear_range=0.2,        #yeniden biçimlendir\n",
    "                             zoom_range=0.3,         #yakınlığını değiştir\n",
    "                             horizontal_flip=True,   #dikeylik değiştir\n",
    "                             vertical_flip=True,     #yataylık değiştir\n",
    "                             fill_mode='nearest')"
   ]
  },
  {
   "cell_type": "code",
   "execution_count": 9,
   "metadata": {},
   "outputs": [],
   "source": [
    "img = load_img(r'C:\\Users\\MEHMET\\jupyter\\TENSORFLOW\\PyImageSearch\\Yeni klasör\\images\\admin\\205.png')  #resimi dosyadan çekiyor\n",
    "x = img_to_array(img)           #diziye çevirdik\n",
    "x = x.reshape((1,) + x.shape)   #yeniden şekillendiriyor"
   ]
  },
  {
   "cell_type": "code",
   "execution_count": 10,
   "metadata": {},
   "outputs": [],
   "source": [
    "# tek resimden 50 tane farklı resim üret ve veri klasörüne .jpeg formatında kaydet.\n",
    "i = 0\n",
    "\n",
    "for batch in datagen.flow(x, batch_size=1,\n",
    "                          save_to_dir=r'C:\\Users\\MEHMET\\jupyter\\TENSORFLOW\\PyImageSearch\\Yeni klasör\\images\\admin', #veri klasörüne kaydediyor\n",
    "                          save_format='png'): #png formatında\n",
    "    i += 1\n",
    "    if i > 100:   #50 adet üret\n",
    "        break "
   ]
  },
  {
   "cell_type": "code",
   "execution_count": null,
   "metadata": {},
   "outputs": [],
   "source": []
  },
  {
   "cell_type": "code",
   "execution_count": null,
   "metadata": {},
   "outputs": [],
   "source": []
  },
  {
   "cell_type": "code",
   "execution_count": null,
   "metadata": {},
   "outputs": [],
   "source": []
  }
 ],
 "metadata": {
  "kernelspec": {
   "display_name": "Python 3",
   "language": "python",
   "name": "python3"
  },
  "language_info": {
   "codemirror_mode": {
    "name": "ipython",
    "version": 3
   },
   "file_extension": ".py",
   "mimetype": "text/x-python",
   "name": "python",
   "nbconvert_exporter": "python",
   "pygments_lexer": "ipython3",
   "version": "3.8.3"
  }
 },
 "nbformat": 4,
 "nbformat_minor": 4
}
