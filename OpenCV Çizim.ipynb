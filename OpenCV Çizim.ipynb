{
 "cells": [
  {
   "cell_type": "code",
   "execution_count": 2,
   "metadata": {},
   "outputs": [],
   "source": [
    "import cv2\n",
    "import numpy as np"
   ]
  },
  {
   "cell_type": "markdown",
   "metadata": {},
   "source": [
    "## Yapacağımız çizimler için Tuval hazırladık"
   ]
  },
  {
   "cell_type": "code",
   "execution_count": 9,
   "metadata": {},
   "outputs": [
    {
     "name": "stdout",
     "output_type": "stream",
     "text": [
      "[[[255 255 255]\n",
      "  [255 255 255]\n",
      "  [255 255 255]\n",
      "  ...\n",
      "  [255 255 255]\n",
      "  [255 255 255]\n",
      "  [255 255 255]]\n",
      "\n",
      " [[255 255 255]\n",
      "  [255 255 255]\n",
      "  [255 255 255]\n",
      "  ...\n",
      "  [255 255 255]\n",
      "  [255 255 255]\n",
      "  [255 255 255]]\n",
      "\n",
      " [[255 255 255]\n",
      "  [255 255 255]\n",
      "  [255 255 255]\n",
      "  ...\n",
      "  [255 255 255]\n",
      "  [255 255 255]\n",
      "  [255 255 255]]\n",
      "\n",
      " ...\n",
      "\n",
      " [[255 255 255]\n",
      "  [255 255 255]\n",
      "  [255 255 255]\n",
      "  ...\n",
      "  [255 255 255]\n",
      "  [255 255 255]\n",
      "  [255 255 255]]\n",
      "\n",
      " [[255 255 255]\n",
      "  [255 255 255]\n",
      "  [255 255 255]\n",
      "  ...\n",
      "  [255 255 255]\n",
      "  [255 255 255]\n",
      "  [255 255 255]]\n",
      "\n",
      " [[255 255 255]\n",
      "  [255 255 255]\n",
      "  [255 255 255]\n",
      "  ...\n",
      "  [255 255 255]\n",
      "  [255 255 255]\n",
      "  [255 255 255]]]\n"
     ]
    }
   ],
   "source": [
    "canvas = np.zeros((512,512,3),dtype=np.uint8) +255  #kendimize çizim yapabilmek için bir tuval hazırladık(+255-Beyaz tuval)\n",
    "print(canvas)\n",
    "cv2.imshow(\"Canvas\",canvas) \n",
    "cv2.waitKey(0) #herhangi bir tuşa basınca pencere kapanır\n",
    "cv2.destroyAllWindows()"
   ]
  },
  {
   "cell_type": "markdown",
   "metadata": {},
   "source": [
    "### pikselleri tek tek renklendirme"
   ]
  },
  {
   "cell_type": "code",
   "execution_count": 8,
   "metadata": {},
   "outputs": [],
   "source": [
    "img=np.zeros((10,10,3),np.uint8) #tuvalemizi belirledik\n",
    "\n",
    "#pikselleri tek tek renklendiriyoruz\n",
    "img[0,0]=(255,255,255)\n",
    "img[0,1]=(200,255,200)\n",
    "img[0,2]=(150,255,150)\n",
    "img[0,3]=(15,255,15)\n",
    "\n",
    "\n",
    "\n",
    "img= cv2.resize(img,(800,800),interpolation=cv2.INTER_AREA) #yeniden boyutlandırdık\n",
    "\n",
    "\n",
    "cv2.imshow(\"Canvas\",img) \n",
    "cv2.waitKey(0) #herhangi bir tuşa basınca pencere kapanır\n",
    "cv2.destroyAllWindows()"
   ]
  },
  {
   "cell_type": "markdown",
   "metadata": {},
   "source": [
    "## Çizgi , Kare ,Çember ,Üçgen Çizme"
   ]
  },
  {
   "cell_type": "code",
   "execution_count": 33,
   "metadata": {},
   "outputs": [],
   "source": [
    "canvas = np.zeros((512,512,3),dtype=np.uint8) +255  #kendimize çizim yapabilmek için bir tuval hazırladık(+255-Beyaz tuval)\n",
    "\n",
    "# çizgi çizme\n",
    "cv2.line(canvas,(50,50),(512,512),(255,0,0),thickness=5) #  (başlangıç,bitiş,renk,kalınlık)\n",
    "cv2.line(canvas,(100,50),(200,250),(0,0,250),thickness=3) #  (başlangıç,bitiş,renk,kalınlık)\n",
    "\n",
    "# Kare Çizme\n",
    "cv2.rectangle(canvas,(20,20),(50,50),(0,255,0),thickness=3) # (sol_üst_köşe,sağ_alt_köşe,renk,kalınlık)\n",
    "cv2.rectangle(canvas,(300,300),(150,150),(0,255,0),thickness=-1) # eğer kalınlık değeri -1 verilirse içi dolu kare çizilir\n",
    "\n",
    "# Çember Çizme\n",
    "cv2.circle(canvas,(400,250),100,(0,0,255),thickness=-1) #(merkez nok,yarı çapı,renk,kalınlık)\n",
    "\n",
    "#üçgen çizme\n",
    "p1=(100,200)\n",
    "p2=(50,50)\n",
    "p3=(300,100)\n",
    "\n",
    "cv2.line(canvas,p1,p2,(0,0,0),4)\n",
    "cv2.line(canvas,p2,p3,(0,0,0),4)\n",
    "cv2.line(canvas,p1,p3,(0,0,0),4)\n",
    "\n",
    "#polylines ile çok kenarlı şekiller çizme\n",
    "points = np.array([[[110,200],[300,220],[100,220],[80,80]]],np.int32)\n",
    "cv2.polylines(canvas,[points],True,(0,0,100),5 )\n",
    "\n",
    "#elips çizimi\n",
    "cv2.ellipse(canvas,(300,300),(80,20),10,90,360,(255,255,0),-1) #(merkez noktası,(en,boy),yatay ile yaptığı açı,)\n",
    "\n",
    "\n",
    "cv2.imshow(\"Canvas\",canvas) \n",
    "cv2.waitKey(0) #herhangi bir tuşa basınca pencere kapanır\n",
    "cv2.destroyAllWindows()"
   ]
  },
  {
   "cell_type": "markdown",
   "metadata": {},
   "source": [
    "## Yazı yazdırma"
   ]
  },
  {
   "cell_type": "code",
   "execution_count": 43,
   "metadata": {},
   "outputs": [],
   "source": [
    "canvas = np.zeros((512,512,3),dtype=np.uint8) +255  #kendimize çizim yapabilmek için bir tuval hazırladık(+255-Beyaz tuval)\n",
    "\n",
    "\n",
    "#yazı fontları \n",
    "font1 = cv2.FONT_HERSHEY_SIMPLEX\n",
    "font2 = cv2.FONT_HERSHEY_COMPLEX\n",
    "font3 = cv2.FONT_HERSHEY_SCRIPT_COMPLEX\n",
    "\n",
    "\n",
    "cv2.putText(canvas,'OpenCV',(30,100),font1,2,(0,0,0),cv2.LINE_4) #(çizilicek yer adı,yazılacak yazı,metnin konumu,FONT)\n",
    "\n",
    "cv2.imshow(\"Canvas\",canvas) \n",
    "cv2.waitKey(0) #herhangi bir tuşa basınca pencere kapanır\n",
    "cv2.destroyAllWindows()"
   ]
  },
  {
   "cell_type": "markdown",
   "metadata": {},
   "source": [
    "## Trackbar renk değerleri ile oynama"
   ]
  },
  {
   "cell_type": "code",
   "execution_count": 23,
   "metadata": {},
   "outputs": [],
   "source": [
    " def nothing(x):\n",
    "        \n",
    "        pass\n",
    "    \n",
    "img = np.zeros((600,512,3),dtype=np.uint8) #çizim ekranı oluşturuldu\n",
    "cv2.namedWindow(\"image\") # yeniden adlandırıldı\n",
    "\n",
    "cv2.createTrackbar(\"R\",\"image\",0,255,nothing) # trackbara tuşlar ve görevler atandı\n",
    "cv2.createTrackbar(\"G\",\"image\",0,255,nothing) # adı G ve değişim aralığı 0-255\n",
    "cv2.createTrackbar(\"B\",\"image\",0,255,nothing)\n",
    "switch='ON:1\\nOFF'\n",
    "cv2.createTrackbar(switch,\"image\",0,1,nothing)\n",
    "\n",
    "while True:\n",
    "    cv2.imshow(\"image\",img)\n",
    "    if cv2.waitKey(1) & 0xFF == ord(\"q\"):\n",
    "        break\n",
    "    r = cv2.getTrackbarPos(\"R\",\"image\")\n",
    "    g = cv2.getTrackbarPos(\"G\",\"image\")\n",
    "    b = cv2.getTrackbarPos(\"B\",\"image\")\n",
    "    s = cv2.getTrackbarPos(switch,\"image\")\n",
    "    \n",
    "    if s == 0:\n",
    "         img[:] = [0,0,0]\n",
    "    else:\n",
    "        img[:] = [b, g, r]\n",
    "\n",
    "\n",
    "cv2.destroyAllWindows()"
   ]
  },
  {
   "cell_type": "code",
   "execution_count": null,
   "metadata": {},
   "outputs": [],
   "source": []
  }
 ],
 "metadata": {
  "kernelspec": {
   "display_name": "Python 3",
   "language": "python",
   "name": "python3"
  },
  "language_info": {
   "codemirror_mode": {
    "name": "ipython",
    "version": 3
   },
   "file_extension": ".py",
   "mimetype": "text/x-python",
   "name": "python",
   "nbconvert_exporter": "python",
   "pygments_lexer": "ipython3",
   "version": "3.8.3"
  }
 },
 "nbformat": 4,
 "nbformat_minor": 4
}
