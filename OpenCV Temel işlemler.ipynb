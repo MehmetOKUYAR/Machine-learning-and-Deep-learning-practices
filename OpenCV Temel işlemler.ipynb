{
 "cells": [
  {
   "cell_type": "markdown",
   "metadata": {},
   "source": [
    "### Kütüphaneleri import et"
   ]
  },
  {
   "cell_type": "code",
   "execution_count": 2,
   "metadata": {},
   "outputs": [],
   "source": [
    "import cv2\n",
    "import numpy as np"
   ]
  },
  {
   "cell_type": "markdown",
   "metadata": {},
   "source": [
    "## Resmim piksellerini okuma ve değiştirme"
   ]
  },
  {
   "cell_type": "code",
   "execution_count": 13,
   "metadata": {},
   "outputs": [
    {
     "name": "stdout",
     "output_type": "stream",
     "text": [
      "resmin boyutu:  (426, 640, 3)\n",
      "piksellerinin renk kodları:  [140 134 123]\n",
      "pikselindeki mavi renk kodu: 140 \n",
      "pikselindeki yeşil renk kodu: 134 \n",
      "new blue: 250\n",
      "blue1:  158\n",
      "new_blue1:  172\n"
     ]
    }
   ],
   "source": [
    "img=cv2.imread(\"klon.jpg\")\n",
    "\n",
    "dimension=img.shape # resmin boyutlarını bize verir\n",
    "print(\"resmin boyutu: \",dimension)\n",
    "\n",
    "\n",
    "color=img[420,500] # resimdeki her hangi bir pikselin konumunu veriyoruz\n",
    "print(\"piksellerinin renk kodları: \",color) # ve hangi renkleri içerdiğini yazdırıyoruz\n",
    "\n",
    "blue = img[420,500,0] # [b:0, g:1 , r:2] renk kodları bu şekilde sıralanır ve biz sadece mavi renk kodunun değerini merak ediyoruz.\n",
    "print(f\"pikselindeki mavi renk kodu: {blue} \")\n",
    "\n",
    "green =img[420,500,1]\n",
    "print(f\"pikselindeki yeşil renk kodu: {green} \")\n",
    "\n",
    "blue = img[420,500,0]=250 #bir pikseldeki renk kodlarını değiştirme\n",
    "print(\"new blue:\",img[420,500,0])\n",
    "\n",
    "blue1=img.item(150,200,0) #150-200 konumundaki mavi rengi alıyoruz.\n",
    "print(\"blue1: \",blue1)\n",
    "\n",
    "img.itemset((150,200,0),172) #pikselin rengini değiştiriyoruz.\n",
    "print(\"new_blue1: \",img[150,200,0])\n",
    "\n",
    "cv2.imshow(\"klon asker\",img)\n",
    "cv2.waitKey(0)\n",
    "cv2.destroyAllWindows()"
   ]
  },
  {
   "cell_type": "markdown",
   "metadata": {},
   "source": [
    "## ROİ (region of interest)"
   ]
  },
  {
   "cell_type": "code",
   "execution_count": 15,
   "metadata": {},
   "outputs": [],
   "source": [
    "img=cv2.imread(\"klon.jpg\")\n",
    "\n",
    "roi = img[30:200,200:400] #tahmini olarak ilgili alanın kordinatlarının girilmesi\n",
    "\n",
    "    \n",
    "cv2.imshow(\"klon asker\",img)\n",
    "cv2.imshow(\"ROI\",roi)\n",
    "cv2.waitKey(0)\n",
    "cv2.destroyAllWindows()"
   ]
  },
  {
   "cell_type": "markdown",
   "metadata": {},
   "source": [
    "## Resimlerin Toplanması"
   ]
  },
  {
   "cell_type": "code",
   "execution_count": 26,
   "metadata": {},
   "outputs": [],
   "source": [
    "circle = np.zeros((512,512,3),np.uint8)+255 # resim çizilecek tuval oluşturuldu\n",
    "cv2.circle(circle,(256,256),60,(255,0,0),-1) # çember oluşturuldu\n",
    "\n",
    "rectangle = np.zeros((512,512,3),np.uint8)+255\n",
    "cv2.rectangle(rectangle,(150,150),(350,350),(0,0,255),-1)\n",
    "\n",
    "add = cv2.add(rectangle,circle) # toplanacak iki resmin isimleri giriliyor\n",
    "cv2.imshow(\"Add\",add)\n",
    "\n",
    "# f(x,y) = x*a + y*b + c #resimleri belli bir ağırlıkta toplama\n",
    "dst = cv2.addWeighted(circle,0.7,rectangle,0.3,0)\n",
    "cv2.imshow(\"Dst\",dst)\n",
    "\n",
    "cv2.imshow(\"Rectangle\",rectangle)\n",
    "cv2.imshow(\"Circle\",circle)\n",
    "cv2.waitKey(0)\n",
    "cv2.destroyAllWindows()"
   ]
  },
  {
   "cell_type": "markdown",
   "metadata": {},
   "source": [
    "## Renk Uzayı"
   ]
  },
  {
   "cell_type": "code",
   "execution_count": 29,
   "metadata": {},
   "outputs": [],
   "source": [
    "img=cv2.imread(\"klon.jpg\")\n",
    "\n",
    "#RENK UZAYLARI İLE DEĞİŞİKLİKLER \n",
    "img1 = cv2.cvtColor(img,cv2.COLOR_BGR2RGB)\n",
    "img2 = cv2.cvtColor(img,cv2.COLOR_BGR2GRAY)\n",
    "img3 = cv2.cvtColor(img,cv2.COLOR_BGR2HSV)\n",
    "\n",
    "cv2.imshow(\"klon BGR2RGB\",img1)\n",
    "cv2.imshow(\"klon BGR2GRAY\",img2)\n",
    "cv2.imshow(\"klon BGR2HSV\",img3)\n",
    "cv2.imshow(\"klon asker\",img)\n",
    "cv2.waitKey(0)\n",
    "cv2.destroyAllWindows()"
   ]
  },
  {
   "cell_type": "code",
   "execution_count": null,
   "metadata": {},
   "outputs": [],
   "source": [
    "cap = cv2.VideoCapture(\"antalya.mp4\") # pc deki video adını belirttik.\n",
    "\n",
    "# her bir kare sonsuz bir while döngüsü ile yakalayarak video oluşturuyoruz.\n",
    "while True:\n",
    "    ret,frame = cap.read() # cap.read() sağlıklı bi şekilde görüntü okuduğunda true değerleri göndererek ret hafızasında saklanır\n",
    "    frame = cv2.cvtColor(frame,cv2.COLOR_BGR2RGB)\n",
    "    \n",
    "    #video bittiğinde ret de False dönecek ve sağlıklı bi şekide videodan çıkabileceğiz bunuda if komutu ile algıladık\n",
    "    if ret==False:\n",
    "        break\n",
    "        \n",
    "    \n",
    "    cv2.imshow(\"Antalya\",frame)\n",
    "    \n",
    "    #burada waitkey içine girlen sayı her bir karenin kaç milisaniye gösterileceğidir\n",
    "    if cv2.waitKey(10) & 0xFF == ord(\"q\"): #0xFF q'nun makine dilinde ki karşılığıdır\n",
    "        break\n",
    "cap.release() \n",
    "cv2.destroyAllWindows()"
   ]
  },
  {
   "cell_type": "markdown",
   "metadata": {},
   "source": [
    "## Renklerin HSV kodlarını bulma\n",
    "\n",
    "> #### HSV renk alanı\n",
    "HSV (ton, doygunluk, değer) renk alanı, RGB renk modeline benzer renk uzayını temsil eden bir modeldir. Ton kanalı renk türünü modellediğinden, nesneleri rengine göre bölümlere ayırması gereken görüntü işleme görevlerinde çok kullanışlıdır. Doygunluğun değişimi, doymamıştan gri tonlarını ve tamamen doygunluğu temsil eder (beyaz bileşen yok). Değer kanalı, rengin parlaklığını veya yoğunluğunu tanımlar. Sonraki resim HSV silindirini göstermektedir."
   ]
  },
  {
   "cell_type": "code",
   "execution_count": 2,
   "metadata": {},
   "outputs": [],
   "source": [
    "import requests\n",
    "import cv2\n",
    "import numpy as np\n",
    "#telefonun kamerasına bağlanıyoruz\n",
    "#url = \"http://192.168.137.13:8080//shot.jpg\"\n",
    "\n",
    "cap = cv2.VideoCapture(0) # videocaptura sıfır diyerek kameradan görüntü alacağımızı belirtilir\n",
    "\n",
    "\n",
    "def nothing(x):\n",
    "        \n",
    "        pass\n",
    "    \n",
    "cv2.namedWindow(\"Trackbar\") # yeniden adlandırıldı\n",
    "cv2.resizeWindow (\"Trackbar\",500,500)\n",
    "\n",
    "cv2.createTrackbar(\"lower - H\",\"Trackbar\",0,180,nothing) # trackbara tuşlar ve görevler atandı\n",
    "cv2.createTrackbar(\"lower - S\",\"Trackbar\",0,255,nothing) # adı G ve değişim aralığı 0-255\n",
    "cv2.createTrackbar(\"lower - V\",\"Trackbar\",0,255,nothing)\n",
    "\n",
    "cv2.createTrackbar(\"upper - H\",\"Trackbar\",0,180,nothing)\n",
    "cv2.createTrackbar(\"upper - S\",\"Trackbar\",0,255,nothing)\n",
    "cv2.createTrackbar(\"upper - V\",\"Trackbar\",0,255,nothing)\n",
    "\n",
    "cv2.setTrackbarPos(\"upper - H\",\"Trackbar\",180)\n",
    "cv2.setTrackbarPos(\"upper - S\",\"Trackbar\",255)\n",
    "cv2.setTrackbarPos(\"upper - V\",\"Trackbar\",255)\n",
    "\n",
    "\n",
    "# her bir kare sonsuz bir while döngüsü ile yakalayarak video oluşturuyoruz.\n",
    "while True:\n",
    "    #img_resp = requests.get(url) # Url'ye istek gönderiyoruz ve url'den görüntüleri alıyoruz\n",
    "    #img_arr = np.array(bytearray(img_resp.content), dtype = np.uint8) #array olarak dönüştürüyoruz\n",
    "    #img = cv2.imdecode(img_arr,cv2.IMREAD_COLOR) \n",
    "    #img = cv2.resize(img,(640,480))\n",
    "    ret,frame = cap.read() # cap.read() sağlıklı bi şekilde görüntü okuduğunda true değerleri göndererek ret hafızasında saklanır\n",
    "    \n",
    "    #flipcode = 0: flip vertically\n",
    "    #flipcode > 0: flip horizontally\n",
    "    #flipcode < 0: flip vertically and horizontally\n",
    "    \n",
    "    frame = cv2.flip(frame,1)  #cv2.flip kodu ile görüntünün eksenlere göre tersini alabiliriz\n",
    "    \n",
    "    frame_hsv = cv2.cvtColor(frame,cv2.COLOR_BGR2HSV)\n",
    "    \n",
    "    lower_h = cv2.getTrackbarPos(\"lower - H\",\"Trackbar\") #tuşlara atadığımız özellikleri ekrana atıyoruz\n",
    "    lower_s = cv2.getTrackbarPos(\"lower - S\",\"Trackbar\")\n",
    "    lower_v = cv2.getTrackbarPos(\"lower - V\",\"Trackbar\")\n",
    "    \n",
    "    upper_h = cv2.getTrackbarPos(\"upper - H\",\"Trackbar\")\n",
    "    upper_s = cv2.getTrackbarPos(\"upper - S\",\"Trackbar\")\n",
    "    upper_v = cv2.getTrackbarPos(\"upper - V\",\"Trackbar\")\n",
    "    \n",
    "    lower_color = np.array([lower_h,lower_s,lower_v])\n",
    "    upper_color = np.array([upper_h,upper_s,upper_v])\n",
    "    \n",
    "    mask = cv2.inRange(frame_hsv,lower_color,upper_color)\n",
    "    \n",
    "    \n",
    "    cv2.imshow(\"Original\",frame)\n",
    "    cv2.imshow(\"Mask\",mask)\n",
    "    \n",
    "    #burada waitkey içine girlen sayı her bir karenin kaç milisaniye gösterileceğidir\n",
    "    if cv2.waitKey(1) & 0xFF == ord(\"q\"): #0xFF q'nun makine dilinde ki karşılığıdır\n",
    "        break\n",
    "\n",
    "cap.release() \n",
    "cv2.destroyAllWindows()"
   ]
  },
  {
   "cell_type": "markdown",
   "metadata": {},
   "source": [
    "## Smoothing Resmi yumuşatma"
   ]
  },
  {
   "cell_type": "code",
   "execution_count": 7,
   "metadata": {},
   "outputs": [],
   "source": [
    "img_filter = cv2.imread(\"8.2 filter.png.png\")\n",
    "img_median = cv2.imread(\"8.1 median.png.png\")\n",
    "img_bilateral = cv2.imread(\"8.4 bilateral.png.png\")\n",
    "\n",
    "blur = cv2.blur(img_filter,(5,5))\n",
    "blur2 = cv2.GaussianBlur(img_filter,(5,5),cv2.BORDER_DEFAULT)\n",
    "median = cv2.medianBlur(img_median,5)\n",
    "blur_b = cv2.bilateralFilter(img_bilateral,9,98,95)\n",
    "\n",
    "cv2.imshow(\"blur\",blur)\n",
    "cv2.imshow(\"GaussianBlur\",blur2)\n",
    "cv2.imshow(\"medianBlur\",median)\n",
    "cv2.imshow(\"bilateralFilter\",blur_b)\n",
    "\n",
    "\n",
    "cv2.imshow(\"original filter\",img_filter)\n",
    "cv2.imshow(\"original median\",img_median)\n",
    "cv2.imshow(\"original bilateral\",img_bilateral)\n",
    "cv2.waitKey(0)\n",
    "cv2.destroyAllWindows()"
   ]
  },
  {
   "cell_type": "markdown",
   "metadata": {},
   "source": [
    "## Bitwise işleçler"
   ]
  },
  {
   "cell_type": "code",
   "execution_count": 15,
   "metadata": {},
   "outputs": [],
   "source": [
    "img1 = cv2.imread(\"9.2 bitwise_1.png.png\")\n",
    "img2 = cv2.imread(\"9.1 bitwise_2.png.png\")\n",
    "\n",
    "bit_and = cv2.bitwise_and(img1,img2) # bit düzeyinde and işlemleri yapar\n",
    "bit_or = cv2.bitwise_or(img1,img2)  # bit düzeyinde or işlemleri yapar\n",
    "bit_not = cv2.bitwise_not( img2)\n",
    "bit_xor = cv2.bitwise_xor(img1,img2)\n",
    " \n",
    "cv2.imshow(\"bitwise\",bit_xor)\n",
    "\n",
    "cv2.imshow(\"original img1\",img1)\n",
    "cv2.imshow(\"original img2\",img2)\n",
    "cv2.waitKey(0)\n",
    "cv2.destroyAllWindows()"
   ]
  },
  {
   "cell_type": "markdown",
   "metadata": {},
   "source": [
    "## Resim dönüşüm dizeyi (Matris)"
   ]
  },
  {
   "cell_type": "code",
   "execution_count": 29,
   "metadata": {},
   "outputs": [
    {
     "name": "stdout",
     "output_type": "stream",
     "text": [
      "Row:  205\n",
      "Col:  570\n"
     ]
    }
   ],
   "source": [
    "img = cv2.imread(\"car.png\")\n",
    "row,col = img.shape[:2]\n",
    "\n",
    "\n",
    "M = np.float32([[1,0,10],[0,1,100]])\n",
    "dst = cv2.warpAffine(img,M,(row,col))\n",
    "\n",
    "print(\"Row: \",row)\n",
    "print(\"Col: \",col)\n",
    "cv2.imshow(\"original img\",img)\n",
    "cv2.imshow(\"dst\",dst)\n",
    "cv2.waitKey(0)\n",
    "cv2.destroyAllWindows()"
   ]
  },
  {
   "cell_type": "markdown",
   "metadata": {},
   "source": [
    "## Resim döndürme"
   ]
  },
  {
   "cell_type": "code",
   "execution_count": 42,
   "metadata": {},
   "outputs": [],
   "source": [
    "img = cv2.imread(\"car.png\")\n",
    "row,col = img.shape[:2]\n",
    "\n",
    "\n",
    "M = cv2.getRotationMatrix2D((col/3,row/1),180,1) #sütun,satır,açı,hangi yönde döndürmek istediğimiz,ölçek\n",
    "\n",
    "dst = cv2.warpAffine(img,M,(row,col)) # (resim,filtre,sütun,satır)\n",
    "\n",
    "cv2.imshow(\"dst\",dst)\n",
    "cv2.imshow(\"img\",img)\n",
    "cv2.waitKey(0)\n",
    "cv2.destroyAllWindows()"
   ]
  },
  {
   "cell_type": "markdown",
   "metadata": {},
   "source": [
    "## Thereshold (siyah-beyaz)"
   ]
  },
  {
   "cell_type": "code",
   "execution_count": 68,
   "metadata": {},
   "outputs": [],
   "source": [
    "img = cv2.imread(\"resim1.PNG\",0) # GÖRÜNTÜ GRAYSCALE ÇEVRİLDİ\n",
    "\n",
    "ret,th1 = cv2.threshold(img,127,255,cv2.THRESH_BINARY)\n",
    "th2 = cv2.adaptiveThreshold(img,255,cv2.ADAPTIVE_THRESH_MEAN_C,cv2.THRESH_BINARY,11,2)\n",
    "th3 = cv2.adaptiveThreshold(img,255,cv2.ADAPTIVE_THRESH_GAUSSIAN_C,cv2.THRESH_BINARY,11,2)\n",
    "\n",
    "cv2.imshow(\"img\",img)\n",
    "cv2.imshow(\"th1\",th1)\n",
    "cv2.imshow(\"th2\",th2)\n",
    "cv2.imshow(\"th3\",th3)\n",
    "cv2.waitKey(0)\n",
    "cv2.destroyAllWindows()"
   ]
  },
  {
   "cell_type": "markdown",
   "metadata": {},
   "source": [
    "## Morfolojik işlemler"
   ]
  },
  {
   "cell_type": "code",
   "execution_count": 73,
   "metadata": {},
   "outputs": [],
   "source": [
    "img = cv2.imread(\"resim1.PNG\",0) # GÖRÜNTÜ GRAYSCALE ÇEVRİLDİ\n",
    "ret,img = cv2.threshold(img,127,255,cv2.THRESH_BINARY)\n",
    "\n",
    "kernel = np.ones((3,3),np.uint8) # (5,5 )lik matris\n",
    "\n",
    "erosion = cv2.erode(img,kernel,iterations=2) #siyahları kalınlaştırıyor\n",
    "\n",
    "dilation = cv2.dilate(img,kernel,iterations=2) # beyazları kalınlaştıryor\n",
    "\n",
    "opening = cv2.morphologyEx(img,cv2.MORPH_OPEN,kernel) #resim üzerindeki lekleri kaldırmamıza yarar\n",
    "\n",
    "close = cv2.morphologyEx(img,cv2.MORPH_CLOSE,kernel) #resim üzerindeki lekleri kaldırmamıza yarar\n",
    "\n",
    "gradient = cv2.morphologyEx(img,cv2.MORPH_GRADIENT,kernel) #resim üzerindeki lekleri kaldırmamıza yarar\n",
    "\n",
    "tophat = cv2.morphologyEx(img,cv2.MORPH_TOPHAT,kernel) #resim üzerindeki lekleri kaldırmamıza yarar\n",
    "\n",
    "\n",
    "cv2.imshow(\"tophat\",tophat)\n",
    "cv2.imshow(\"gradient\",gradient)\n",
    "cv2.imshow(\"close\",close)\n",
    "cv2.imshow(\"opening\",opening)\n",
    "cv2.imshow(\"dilation\",dilation)\n",
    "cv2.imshow(\"erosion\",erosion)\n",
    "cv2.imshow(\"img\",img)\n",
    "cv2.waitKey(0)\n",
    "cv2.destroyAllWindows()"
   ]
  },
  {
   "cell_type": "markdown",
   "metadata": {},
   "source": [
    "## Histogram"
   ]
  },
  {
   "cell_type": "code",
   "execution_count": 83,
   "metadata": {},
   "outputs": [
    {
     "data": {
      "image/png": "[encoded data removed]",
      "text/plain": [
       "<Figure size 432x288 with 1 Axes>"
      ]
     },
     "metadata": {
      "needs_background": "light"
     },
     "output_type": "display_data"
    }
   ],
   "source": [
    "#görüntü hakkında parlaklık ,constrat vs gibi bilgileri elde etmemizi sağlar\n",
    "from matplotlib import pyplot as plt\n",
    "\n",
    "img = np.zeros((500,500,3),np.uint8) #kendimize 500, 500 bir siyah ekran yaptık\n",
    "cv2.rectangle(img,(0,60),(200,150),(255,100,180),-1)\n",
    "cv2.rectangle(img,(200,200),(300,300),(255,100,180),-1)\n",
    "\n",
    "cv2.imshow(\"img\",img)\n",
    "plt.hist(img.ravel(),256,[0,256])\n",
    "plt.show()\n",
    "\n",
    "\n",
    "cv2.waitKey(0)\n",
    "cv2.destroyAllWindows()"
   ]
  },
  {
   "cell_type": "code",
   "execution_count": 100,
   "metadata": {},
   "outputs": [
    {
     "data": {
      "image/png": "[encoded data removed]",
      "text/plain": [
       "<Figure size 432x288 with 1 Axes>"
      ]
     },
     "metadata": {
      "needs_background": "light"
     },
     "output_type": "display_data"
    }
   ],
   "source": [
    "#görüntü hakkında parlaklık ,constrat vs gibi bilgileri elde etmemizi sağlar\n",
    "from matplotlib import pyplot as plt\n",
    "\n",
    "img = cv2.imread(\"car.png\")\n",
    "b,g,r = cv2.split(img) #resmin b , g, r değerlerini ayrı ayrı elde etmemizi sağlar\n",
    "\n",
    "plt.hist(b.ravel(),256,[0,256])\n",
    "plt.hist(g.ravel(),256,[0,256])\n",
    "plt.hist(r.ravel(),256,[0,256])\n",
    "\n",
    "\n",
    "\n",
    "\n",
    "cv2.imshow(\"img\",img)\n",
    "plt.hist(img.ravel(),256,[0,256])\n",
    "plt.show()\n",
    "\n",
    "\n",
    "cv2.waitKey(0)\n",
    "cv2.destroyAllWindows()"
   ]
  },
  {
   "cell_type": "markdown",
   "metadata": {},
   "source": [
    "## Köşe tespit etme"
   ]
  },
  {
   "cell_type": "code",
   "execution_count": 99,
   "metadata": {},
   "outputs": [],
   "source": [
    "img1 = cv2.imread(\"15.1 text.png.png\")\n",
    "img2 = cv2.imread(\"15.2 contour.png.png\")\n",
    "\n",
    "gray = cv2.cvtColor(img2,cv2.COLOR_BGR2GRAY)\n",
    "gray = np.float32(gray)\n",
    "\n",
    "corners = cv2.goodFeaturesToTrack(gray,50,0.01,10)\n",
    "\n",
    "corners = np.int0(corners)\n",
    "for corner in corners:\n",
    "    x,y = corner.ravel()\n",
    "    cv2.circle(img2,(x,y),3,(0,0,255),-1)\n",
    "    \n",
    "cv2.imshow(\"corner\",img2)\n",
    "cv2.waitKey(0)\n",
    "cv2.destroyAllWindows()"
   ]
  },
  {
   "cell_type": "markdown",
   "metadata": {},
   "source": [
    "## Canny edge Kenar Bulma yöntemi"
   ]
  },
  {
   "cell_type": "code",
   "execution_count": 111,
   "metadata": {},
   "outputs": [],
   "source": [
    "cap = cv2.VideoCapture(0) # videocaptura sıfır diyerek kameradan görüntü alacağımızı belirtilir\n",
    "\n",
    "# her bir kare sonsuz bir while döngüsü ile yakalayarak video oluşturuyoruz.\n",
    "while True:\n",
    "    ret,frame = cap.read() # cap.read() sağlıklı bi şekilde görüntü okuduğunda true değerleri göndererek ret hafızasında saklanır\n",
    "    \n",
    "    #flipcode = 0: flip vertically\n",
    "    #flipcode > 0: flip horizontally\n",
    "    #flipcode < 0: flip vertically and horizontally\n",
    "    \n",
    "    frame = cv2.flip(frame,1)  #cv2.flip kodu ile görüntünün eksenlere göre tersini alabiliriz\n",
    "    \n",
    "    edges = cv2.Canny(frame,70,55)\n",
    "    \n",
    "    #cv2.imshow(\"webcam\",frame)\n",
    "    cv2.imshow(\"Canny edge\",edges) #kenar bulma modülü\n",
    "    cv2.imshow(\"original\",frame)\n",
    "    \n",
    "    #burada waitkey içine girlen sayı her bir karenin kaç milisaniye gösterileceğidir\n",
    "    if cv2.waitKey(1) & 0xFF == ord(\"q\"): #0xFF q'nun makine dilinde ki karşılığıdır\n",
    "        break\n",
    "cap.release() \n",
    "cv2.destroyAllWindows()"
   ]
  },
  {
   "cell_type": "markdown",
   "metadata": {},
   "source": [
    "# Tracbar ve Canny edges ile kameradan alınan görünütünün kenarlarını bulma"
   ]
  },
  {
   "cell_type": "code",
   "execution_count": null,
   "metadata": {},
   "outputs": [],
   "source": [
    "import requests\n",
    "import cv2\n",
    "\n",
    "\n",
    "cap = cv2.VideoCapture(0) # videocaptura sıfır diyerek kameradan görüntü alacağımızı belirtilir\n",
    "\n",
    "\n",
    "def nothing(x):\n",
    "        \n",
    "        pass\n",
    "    \n",
    "cv2.namedWindow(\"Trackbar\") # yeniden adlandırıldı\n",
    "cv2.resizeWindow (\"Trackbar\",500,85)\n",
    "\n",
    "\n",
    "cv2.createTrackbar(\"a\",\"Trackbar\",0,255,nothing) \n",
    "cv2.createTrackbar(\"b\",\"Trackbar\",0,255,nothing)\n",
    "\n",
    "\n",
    "\n",
    "\n",
    "# her bir kare sonsuz bir while döngüsü ile yakalayarak video oluşturuyoruz.\n",
    "while True:\n",
    "  \n",
    "    ret,frame = cap.read() # cap.read() sağlıklı bi şekilde görüntü okuduğunda true değerleri göndererek ret hafızasında saklanır\n",
    "    \n",
    "    #flipcode = 0: flip vertically\n",
    "    #flipcode > 0: flip horizontally\n",
    "    #flipcode < 0: flip vertically and horizontally\n",
    "    \n",
    "    frame = cv2.flip(frame,1)  #cv2.flip kodu ile görüntünün eksenlere göre tersini alabiliriz\n",
    "    \n",
    "    \n",
    "    \n",
    "    a = cv2.getTrackbarPos(\"a\",\"Trackbar\") #tuşlara atadığımız özellikleri ekrana atıyoruz\n",
    "    b = cv2.getTrackbarPos(\"b\",\"Trackbar\")\n",
    "   \n",
    "    edges = cv2.Canny(frame,a,b)\n",
    "   \n",
    "    \n",
    "    cv2.imshow(\"Original\",frame)\n",
    "    cv2.imshow(\"Mask\",edges)\n",
    "    \n",
    "    #burada waitkey içine girlen sayı her bir karenin kaç milisaniye gösterileceğidir\n",
    "    if cv2.waitKey(1) & 0xFF == ord(\"q\"): #0xFF q'nun makine dilinde ki karşılığıdır\n",
    "        break\n",
    "\n",
    "cap.release() \n",
    "cv2.destroyAllWindows()"
   ]
  },
  {
   "cell_type": "code",
   "execution_count": 2,
   "metadata": {},
   "outputs": [],
   "source": [
    "import requests\n",
    "import cv2\n",
    "\n",
    "\n",
    "img = cv2.imread(\"resimler/plaka.jpg\") # videocaptura sıfır diyerek kameradan görüntü alacağımızı belirtilir\n",
    "gray =cv2.cvtColor(img,cv2.COLOR_BGR2GRAY) #Gri tona çevirdik\n",
    "\n",
    "def nothing(x):\n",
    "        \n",
    "        pass\n",
    "    \n",
    "cv2.namedWindow(\"Trackbar\") # yeniden adlandırıldı\n",
    "cv2.resizeWindow (\"Trackbar\",500,300)\n",
    "\n",
    "\n",
    "cv2.createTrackbar(\"a\",\"Trackbar\",0,400,nothing) \n",
    "cv2.createTrackbar(\"b\",\"Trackbar\",0,400,nothing)\n",
    "\n",
    "cv2.createTrackbar(\"d\",\"Trackbar\",0,19,nothing)\n",
    "cv2.createTrackbar(\"sigmaC\",\"Trackbar\",0,500,nothing)\n",
    "cv2.createTrackbar(\"sigmaS\",\"Trackbar\",0,500,nothing)\n",
    "\n",
    "\n",
    "while True:\n",
    "    \n",
    "    a = cv2.getTrackbarPos(\"a\",\"Trackbar\") #tuşlara atadığımız özellikleri ekrana atıyoruz\n",
    "    b = cv2.getTrackbarPos(\"b\",\"Trackbar\")\n",
    "\n",
    "    d = cv2.getTrackbarPos(\"d\",\"Trackbar\")\n",
    "    sigmaC = cv2.getTrackbarPos(\"sigmaC\",\"Trackbar\")\n",
    "    sigmaS = cv2.getTrackbarPos(\"sigmaS\",\"Trackbar\")\n",
    "    \n",
    "    filtered = cv2.bilateralFilter(gray,d,sigmaC,sigmaS)\n",
    "    \n",
    "  \n",
    "    edges = cv2.Canny(filtered,a,b)\n",
    "   \n",
    "    cv2.imshow(\"Trackbar\",edges)\n",
    "    if cv2.waitKey(40)==27: #esc basıldığında pencereyi kapat\n",
    "        break\n",
    "cv2.destroyAllWindows()"
   ]
  },
  {
   "cell_type": "code",
   "execution_count": null,
   "metadata": {},
   "outputs": [],
   "source": []
  },
  {
   "cell_type": "code",
   "execution_count": null,
   "metadata": {},
   "outputs": [],
   "source": []
  }
 ],
 "metadata": {
  "kernelspec": {
   "display_name": "Python 3",
   "language": "python",
   "name": "python3"
  },
  "language_info": {
   "codemirror_mode": {
    "name": "ipython",
    "version": 3
   },
   "file_extension": ".py",
   "mimetype": "text/x-python",
   "name": "python",
   "nbconvert_exporter": "python",
   "pygments_lexer": "ipython3",
   "version": "3.8.3"
  }
 },
 "nbformat": 4,
 "nbformat_minor": 4
}
