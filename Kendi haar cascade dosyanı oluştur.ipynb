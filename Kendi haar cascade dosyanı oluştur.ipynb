{
 "cells": [
  {
   "cell_type": "markdown",
   "metadata": {},
   "source": [
    "## Haar Cascade dosyası oluşturma\n",
    "\n",
    "1. ###### Haar Eğitici Yönteminin Belirlenmesi\n",
    "> - server\n",
    "> - Virtual Machine\n",
    "> - Haar Cascade Trainer\n",
    "\n",
    "2. ###### Nesnenin Belirlenmesi\n",
    "> - Algılanması amaçlanan nesne veya nesnelerin neler olduğuna karar verilir\n",
    "telefon,saat,gül ....\n",
    "\n",
    "3. ###### Veri Kümesi\n",
    "> - Amaçlanan nesne ile ilgili pozitif ve negatif resimlerden oluşan bir dosya\n",
    "> - Toplu resim indirme programı\n",
    "> - Resim kırpma programı\n",
    "\n",
    "4. ###### Eğitim Yapılması ve Uygulama\n",
    "\n",
    "cascade trainer uygulama indirme link:  https://amin-ahmadi.com/cascade-trainer-gui/\n",
    "\n",
    "toplu foto indirmek için google eklentisi :https://chrome.google.com/webstore/detail/fatkun-batch-download-ima/nnjjahlikiabnchcpehcpkdeckfgnohf/related?hl=tr"
   ]
  },
  {
   "cell_type": "markdown",
   "metadata": {},
   "source": [
    "# Videoda ki arabaları tanımlamak"
   ]
  },
  {
   "cell_type": "code",
   "execution_count": 1,
   "metadata": {},
   "outputs": [],
   "source": [
    "import cv2\n",
    "\n",
    "car_cascade = cv2.CascadeClassifier(\"cascade/car_cascade.xml\")\n",
    "cap = cv2.VideoCapture(\"resimler/5.1 car.mp4.mp4\") # pc deki video adını belirttik.\n",
    "\n",
    "# her bir kare sonsuz bir while döngüsü ile yakalayarak video oluşturuyoruz.\n",
    "while True:\n",
    "    ret,frame = cap.read() # cap.read() sağlıklı bi şekilde görüntü okuduğunda true değerleri göndererek ret hafızasında saklanır\n",
    "    frame = cv2.resize(frame,(640,480))\n",
    "    #video bittiğinde ret de sıfır dönecek ve sağlıklı bi şekide videodan çıkabileceğiz bunuda if komutu ile algıladık\n",
    "    if ret==0:\n",
    "        break\n",
    "        \n",
    "    gray = cv2.cvtColor(frame,cv2.COLOR_BGR2GRAY) #gri scale dönüştürüldü\n",
    "    \n",
    "    #resim üzerindeki yüz kordinatları bulmaya çalışıyoruz\n",
    "    cars = car_cascade.detectMultiScale(gray) # (resim,küçültülme oranı,en az kaç tane yüz bulununca çizilsin)\n",
    "\n",
    "    for (x,y,w,h) in cars:\n",
    "        cv2.rectangle(frame,(x,y),(x+w,y+h),(0,255,0),2)       \n",
    "        \n",
    "    \n",
    "    cv2.imshow(\"Cars\",frame)\n",
    "    \n",
    "    #burada waitkey içine girlen sayı her bir karenin kaç milisaniye gösterileceğidir\n",
    "    if cv2.waitKey(30) & 0xFF == ord(\"q\"): #0xFF q'nun makine dilinde ki karşılığıdır\n",
    "        break\n",
    "cap.release() \n",
    "cv2.destroyAllWindows()"
   ]
  },
  {
   "cell_type": "markdown",
   "metadata": {},
   "source": [
    "# Pc'nin kamerasından kendimi algılatmak"
   ]
  },
  {
   "cell_type": "code",
   "execution_count": 1,
   "metadata": {},
   "outputs": [
    {
     "ename": "SystemError",
     "evalue": "<class 'cv2.CascadeClassifier'> returned a result with an error set",
     "output_type": "error",
     "traceback": [
      "\u001b[1;31m---------------------------------------------------------------------------\u001b[0m",
      "\u001b[1;31merror\u001b[0m                                     Traceback (most recent call last)",
      "\u001b[1;31merror\u001b[0m: OpenCV(4.4.0) C:\\Users\\appveyor\\AppData\\Local\\Temp\\1\\pip-req-build-k8sx3e60\\opencv\\modules\\core\\src\\persistence_xml.cpp:822: error: (-212:Parsing error) cv::XMLParser::parse in function 'cascade/p_labels.xml(2): <opencv_storage> tag is missing'\n",
      "\nThe above exception was the direct cause of the following exception:\n",
      "\u001b[1;31mSystemError\u001b[0m                               Traceback (most recent call last)",
      "\u001b[1;32m<ipython-input-1-efcef0e1bf9f>\u001b[0m in \u001b[0;36m<module>\u001b[1;34m\u001b[0m\n\u001b[0;32m      4\u001b[0m \u001b[1;33m\u001b[0m\u001b[0m\n\u001b[0;32m      5\u001b[0m \u001b[1;31m#kullancağımız cascade dosyasını çalışmamıza dahil ediyoruz\u001b[0m\u001b[1;33m\u001b[0m\u001b[1;33m\u001b[0m\u001b[1;33m\u001b[0m\u001b[0m\n\u001b[1;32m----> 6\u001b[1;33m \u001b[0mmemo_cascade\u001b[0m \u001b[1;33m=\u001b[0m \u001b[0mcv2\u001b[0m\u001b[1;33m.\u001b[0m\u001b[0mCascadeClassifier\u001b[0m\u001b[1;33m(\u001b[0m\u001b[1;34m\"cascade/p_labels.xml\"\u001b[0m\u001b[1;33m)\u001b[0m\u001b[1;33m\u001b[0m\u001b[1;33m\u001b[0m\u001b[0m\n\u001b[0m\u001b[0;32m      7\u001b[0m \u001b[1;33m\u001b[0m\u001b[0m\n\u001b[0;32m      8\u001b[0m \u001b[1;31m# her bir kare sonsuz bir while döngüsü ile yakalayarak video oluşturuyoruz.\u001b[0m\u001b[1;33m\u001b[0m\u001b[1;33m\u001b[0m\u001b[1;33m\u001b[0m\u001b[0m\n",
      "\u001b[1;31mSystemError\u001b[0m: <class 'cv2.CascadeClassifier'> returned a result with an error set"
     ]
    }
   ],
   "source": [
    "import cv2\n",
    "\n",
    "cap = cv2.VideoCapture(0) # videocaptura sıfır diyerek kameradan görüntü alacağımızı belirtilir\n",
    "\n",
    "#kullancağımız cascade dosyasını çalışmamıza dahil ediyoruz\n",
    "memo_cascade = cv2.CascadeClassifier(\"cascade/memo_cascade.xml\")\n",
    "\n",
    "# her bir kare sonsuz bir while döngüsü ile yakalayarak video oluşturuyoruz.\n",
    "while True:\n",
    "    #her kareyi tek tek okuyoruz\n",
    "    ret,frame = cap.read() # cap.read() sağlıklı bi şekilde görüntü okuduğunda true değerleri göndererek ret hafızasında saklanır\n",
    "    \n",
    "    #flipcode = 0: flip vertically\n",
    "    #flipcode > 0: flip horizontally\n",
    "    #flipcode < 0: flip vertically and horizontally\n",
    "    \n",
    "    frame = cv2.flip(frame,1)  #cv2.flip kodu ile görüntünün eksenlere göre tersini alabiliriz\n",
    "    \n",
    "    #haar-like özelliklerini kolay algılayabilmek için her kareyi gri tona çeviriyoruz\n",
    "    gray = cv2.cvtColor(frame,cv2.COLOR_BGR2GRAY)\n",
    "    \n",
    "    \n",
    "    #rcascade dosyamızı kullanarak her bir kare üzerindeki yüzlerin kordinatlarını bulalım\n",
    "    memo = memo_cascade.detectMultiScale(gray,1.8,5) # (resim,küçültülme oranı,en az kaç tane yüz bulununca çizilsin)\n",
    "\n",
    "    # \"faces  \" değişkeninde tuttuğumuz kordinatları kullanarak yüzleri dikdörtgen içine alalım\n",
    "    for (x,y,w,h) in memo:\n",
    "        cv2.rectangle(frame,(x,y+5),(x+w,y+h),(0,255,0),2)\n",
    "        cv2.putText(frame,\"Admin\",(x,y),cv2.FONT_HERSHEY_SIMPLEX,1,(0,255,0),2,cv2.LINE_AA)\n",
    "\n",
    "    #işlediğimiz kareleri görelim\n",
    "    cv2.imshow(\"WhoamI\",frame)\n",
    "        \n",
    "    \n",
    "    #burada waitkey içine girlen sayı her bir karenin kaç milisaniye gösterileceğidir\n",
    "    if cv2.waitKey(1) & 0xFF == ord(\"q\"): #0xFF q'nun makine dilinde ki karşılığıdır\n",
    "        break\n",
    "\n",
    "\n",
    "cap.release() \n",
    "cv2.destroyAllWindows()"
   ]
  },
  {
   "cell_type": "markdown",
   "metadata": {},
   "source": [
    "# Telefonun kamerasından beni algılamak"
   ]
  },
  {
   "cell_type": "code",
   "execution_count": null,
   "metadata": {},
   "outputs": [],
   "source": [
    "import cv2\n",
    "import numpy as np\n",
    "import requests #Url modülü\n",
    "\n",
    "#telefonda IP Webcam uygulaması olması gerekmektedir.\n",
    "url = \"http://192.168.137.107:8080//shot.jpg\"  #tel'den görüntünün anlık karelerini alacacğız \n",
    "\n",
    "memo_cascade = cv2.CascadeClassifier(\"cascade/memo_cascade.xml\")\n",
    "\n",
    "while True:\n",
    "    img_resp = requests.get(url) # Url'ye istek gönderiyoruz ve url'den görüntüleri alıyoruz\n",
    "    img_arr = np.array(bytearray(img_resp.content), dtype = np.uint8) #array olarak dönüştürüyoruz\n",
    "    frame = cv2.imdecode(img_arr,cv2.IMREAD_COLOR) \n",
    "    frame = cv2.resize(frame,(640,480)) #resize ile boyutlandırıyoruz\n",
    "    \n",
    "    #flipcode = 0: flip vertically\n",
    "    #flipcode > 0: flip horizontally\n",
    "    #flipcode < 0: flip vertically and horizontally\n",
    "    \n",
    "    frame = cv2.flip(frame,1)  #cv2.flip kodu ile görüntünün eksenlere göre tersini alabiliriz\n",
    "    \n",
    "    #haar-like özelliklerini kolay algılayabilmek için her kareyi gri tona çeviriyoruz\n",
    "    gray = cv2.cvtColor(frame,cv2.COLOR_BGR2GRAY)\n",
    "    \n",
    "    \n",
    "    #rcascade dosyamızı kullanarak her bir kare üzerindeki yüzlerin kordinatlarını bulalım\n",
    "    memo = memo_cascade.detectMultiScale(gray,1.8,5) # (resim,küçültülme oranı,en az kaç tane yüz bulununca çizilsin)\n",
    "\n",
    "    # \"faces  \" değişkeninde tuttuğumuz kordinatları kullanarak yüzleri dikdörtgen içine alalım\n",
    "    for (x,y,w,h) in memo:\n",
    "        cv2.rectangle(frame,(x,y+5),(x+w,y+h),(0,255,0),2)\n",
    "        cv2.putText(frame,\"Admin\",(x,y),cv2.FONT_HERSHEY_SIMPLEX,1,(0,255,0),2,cv2.LINE_AA)\n",
    "\n",
    "    #işlediğimiz kareleri görelim\n",
    "    cv2.imshow(\"WhoamI\",frame)\n",
    "        \n",
    "    \n",
    "    #burada waitkey içine girlen sayı her bir karenin kaç milisaniye gösterileceğidir\n",
    "    if cv2.waitKey(1) & 0xFF == ord(\"q\"): #0xFF q'nun makine dilinde ki karşılığıdır\n",
    "        break\n",
    "\n",
    "\n",
    "cap.release() \n",
    "cv2.destroyAllWindows()    "
   ]
  }
 ],
 "metadata": {
  "kernelspec": {
   "display_name": "Python 3",
   "language": "python",
   "name": "python3"
  },
  "language_info": {
   "codemirror_mode": {
    "name": "ipython",
    "version": 3
   },
   "file_extension": ".py",
   "mimetype": "text/x-python",
   "name": "python",
   "nbconvert_exporter": "python",
   "pygments_lexer": "ipython3",
   "version": "3.8.3"
  }
 },
 "nbformat": 4,
 "nbformat_minor": 4
}
