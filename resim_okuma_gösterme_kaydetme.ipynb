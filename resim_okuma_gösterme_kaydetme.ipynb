{
 "cells": [
  {
   "cell_type": "markdown",
   "metadata": {},
   "source": [
    "### Gerekli kütüphane import edildi."
   ]
  },
  {
   "cell_type": "code",
   "execution_count": 1,
   "metadata": {},
   "outputs": [],
   "source": [
    "import cv2"
   ]
  },
  {
   "cell_type": "markdown",
   "metadata": {},
   "source": [
    "### Resmi piksel olarak okuma "
   ]
  },
  {
   "cell_type": "code",
   "execution_count": 2,
   "metadata": {},
   "outputs": [
    {
     "name": "stdout",
     "output_type": "stream",
     "text": [
      "[[[163 171 188]\n",
      "  [ 65  70  79]\n",
      "  [ 88  84  83]\n",
      "  ...\n",
      "  [203 202 211]\n",
      "  [202 201 210]\n",
      "  [200 199 208]]\n",
      "\n",
      " [[147 154 171]\n",
      "  [ 54  56  67]\n",
      "  [ 70  66  65]\n",
      "  ...\n",
      "  [206 205 214]\n",
      "  [205 204 213]\n",
      "  [204 203 212]]\n",
      "\n",
      " [[132 136 154]\n",
      "  [ 49  49  61]\n",
      "  [ 63  58  57]\n",
      "  ...\n",
      "  [203 201 207]\n",
      "  [203 201 207]\n",
      "  [202 200 206]]\n",
      "\n",
      " ...\n",
      "\n",
      " [[129 120 111]\n",
      "  [127 118 109]\n",
      "  [126 117 108]\n",
      "  ...\n",
      "  [ 84  79  80]\n",
      "  [ 87  82  83]\n",
      "  [ 87  82  83]]\n",
      "\n",
      " [[129 120 111]\n",
      "  [126 117 108]\n",
      "  [124 115 106]\n",
      "  ...\n",
      "  [ 84  79  80]\n",
      "  [ 80  75  76]\n",
      "  [ 86  81  82]]\n",
      "\n",
      " [[128 119 110]\n",
      "  [124 115 106]\n",
      "  [123 114 105]\n",
      "  ...\n",
      "  [ 85  80  81]\n",
      "  [ 81  76  77]\n",
      "  [ 87  82  83]]]\n"
     ]
    }
   ],
   "source": [
    "img =cv2.imread(\"klon.jpg\")\n",
    "print(img) #bu kod sayesinderesmin piksel renk kodlarını okuyabiliriz."
   ]
  },
  {
   "cell_type": "markdown",
   "metadata": {},
   "source": [
    "### Resim ekranda gösterme"
   ]
  },
  {
   "cell_type": "code",
   "execution_count": 14,
   "metadata": {},
   "outputs": [],
   "source": [
    "img =cv2.imread(\"klon.jpg\",0)\n",
    "cv2.namedWindow(\"image\",cv2.WINDOW_NORMAL)#Açılan ekran penceresinin boyutunda değişikler yapabilmemizi sağlar.\n",
    "cv2.imshow(\"image\",img) #görüntüyü ekranda göster.\n",
    "cv2.waitKey (0) # herhangi bir anahtar için bekle\n",
    "cv2.destroyAllWindows () # görüntü penceresini kapatın"
   ]
  },
  {
   "cell_type": "markdown",
   "metadata": {},
   "source": [
    "### Resim Kaydetme"
   ]
  },
  {
   "cell_type": "code",
   "execution_count": 4,
   "metadata": {},
   "outputs": [],
   "source": [
    "img=cv2.imread(\"klon.jpg\")\n",
    "cv2.imwrite(\"robokom.jpg\",img) #elimizdeki görüntüyü kaydetiyoruz robokom.jpg olarak kaydediyoruz.\n",
    "yeni_img=cv2.imread(\"robokom.jpg\") #yeni kaydedilen görüntüyü okuduk\n",
    "cv2.imshow(\"yeni\",yeni_img)#yeni kaydedilen görüntüyü gösterdik\n",
    "cv2.waitKey (0) # herhangi bir anahtar için bekle\n",
    "cv2.destroyAllWindows () # görüntü penceresini kapatın"
   ]
  },
  {
   "cell_type": "markdown",
   "metadata": {},
   "source": [
    "### Resmin pc'deki yolunu göstererek okuma gösterme kaydetme"
   ]
  },
  {
   "cell_type": "code",
   "execution_count": 13,
   "metadata": {},
   "outputs": [],
   "source": [
    "img=cv2.imread(\"C:/Users/MEHMET/Desktop/volvo.jpg\")\n",
    "cv2.imwrite(\"C:/Users/MEHMET/Desktop/volvo_yeni.jpg\",img) #elimizdeki görüntüyü kaydetiyoruz volvo_yeni olarak kaydediyoruz.\n",
    "cv2.namedWindow(\"yeni_volvo\",cv2.WINDOW_NORMAL)#Açılan ekran penceresinin boyutunda değişikler yapabilmemizi sağlar.\n",
    "yeni_img=cv2.imread(\"C:/Users/MEHMET/Desktop/volvo_yeni.jpg\") #yeni kaydedilen görüntüyü okuduk\n",
    "cv2.imshow(\"yeni_volvo\",yeni_img)#yeni kaydedilen görüntüyü gösterdik\n",
    "cv2.waitKey (0) # herhangi bir anahtar için bekle\n",
    "cv2.destroyAllWindows () # görüntü penceresini kapatın"
   ]
  },
  {
   "cell_type": "markdown",
   "metadata": {},
   "source": [
    "### cv2.resize kodu ile pencereyi yeniden boyutlandırma"
   ]
  },
  {
   "cell_type": "code",
   "execution_count": 19,
   "metadata": {},
   "outputs": [],
   "source": [
    "#cv2.namedWindow(\"klon\",cv2.WINDOW_NORMAL)#Açılan ekran penceresinin boyutunda otomatik değişikler yapabilmemizi sağlar.\n",
    "\n",
    "img= cv2.imread(\"klon.jpg\")\n",
    "img = cv2.resize(img,(640,480)) #Açılan ekran penceresinin boyutunda manuel değişikler yapabilmemizi sağlar.\n",
    "cv2.imshow(\"klon\",img) #görüntüyü ekranda göster.\n",
    "cv2.waitKey (0) # herhangi bir anahtar için bekle\n",
    "cv2.destroyAllWindows () # görüntü penceresini kapatın"
   ]
  },
  {
   "cell_type": "markdown",
   "metadata": {},
   "source": [
    "### aspect_ratio ile resmin çözünürlüğünü bozmadan pencere boyutunu ayarlama"
   ]
  },
  {
   "cell_type": "code",
   "execution_count": 22,
   "metadata": {},
   "outputs": [],
   "source": [
    "#yeniden boyutlandırma için fonksiyon tanımladık\n",
    "\n",
    "def resizewithAspectRatio(img,width=None,height=None,inter=cv2.INTER_AREA):\n",
    "    \n",
    "    dimension=None\n",
    "    (h,w) =img.shape[:2] #bize verilen çıktılardan en başından ikincisine kadar alınır\n",
    "    \n",
    "    #eğer kullanıcı en ve boy oranlarını girmezse orjinal boyutları döndür\n",
    "    if width is None and height is None:\n",
    "        return img\n",
    "    \n",
    "    #eğer en değerini girmezse boy değerine göre hesap yapılır.\n",
    "    if width is None:\n",
    "        r=height/float(h) #kullanıcıdan alınan boy oranı , orjinal boy oranına bölünür.\n",
    "        dimension=(int(w*r),height) #orjinal en oranı ile yapılan hesap çarpılır\n",
    "        \n",
    "    #eğer sadece boy oranı verilirse \n",
    "    else:\n",
    "        r=weight/float(w) #kullanıcıdan alınan en oranı , orjinal en oranına bölünür.\n",
    "        dimension=(weight,int(h*r)) #orjinal boy oranı ile yapılan hesap çarpılır\n",
    "    return cv2.resize(img,dimension,interpolation=inter)\n",
    "\n",
    "img=cv2.imread(\"klon.jpg\")\n",
    "img1=resizewithAspectRatio(img,width=None,height=600,inter=cv2.INTER_AREA)\n",
    " \n",
    "cv2.imshow(\"Original\",img)\n",
    "cv2.imshow(\"aspect_ratio\",img1) #görüntüyü ekranda göster.\n",
    "cv2.waitKey (0) # herhangi bir anahtar için bekle\n",
    "cv2.destroyAllWindows () # görüntü penceresini kapatın"
   ]
  },
  {
   "cell_type": "code",
   "execution_count": null,
   "metadata": {},
   "outputs": [],
   "source": []
  }
 ],
 "metadata": {
  "kernelspec": {
   "display_name": "Python 3",
   "language": "python",
   "name": "python3"
  },
  "language_info": {
   "codemirror_mode": {
    "name": "ipython",
    "version": 3
   },
   "file_extension": ".py",
   "mimetype": "text/x-python",
   "name": "python",
   "nbconvert_exporter": "python",
   "pygments_lexer": "ipython3",
   "version": "3.8.3"
  }
 },
 "nbformat": 4,
 "nbformat_minor": 4
}
