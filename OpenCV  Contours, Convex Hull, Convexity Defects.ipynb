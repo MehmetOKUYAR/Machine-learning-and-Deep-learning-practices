{
 "cells": [
  {
   "cell_type": "markdown",
   "metadata": {},
   "source": [
    "# Kontur nedir ?\n",
    "\n",
    "Konturlar aynı renk ve yoğunluğa sahip olan tüm kesintisiz noktaları sınır boyunca birleştiren bir eğri olarak basitçe açıklanabilir.Konturlar şekil analizi,nesne algılama ve tanıma için çok yararlı bir araçtır.\n",
    "\n",
    "![Image of Yaktocat](https://4.bp.blogspot.com/-OnofUlmgRNA/WT1gytbaECI/AAAAAAAAAok/wNJX1EWUViQUhB4GgJNFMHsLZyqsUD1TgCK4B/s400/approx.jpg\")\n",
    "\n",
    "-Kontur bulunması istenirken daha doğru sonuç için binary(siyah-beyaz) formunda resim kullanılmalıdır. (cv2.cvtColor,cv2.threshold)\n",
    "\n",
    "-FindContours yöntemiyle konturleri bulunan resim komple değişir orjinal halini bir daha kullanılamaz hale gelir. Bunun için resimi yazılımda yedeklemeniz gerekmektedir. (cv2.findContours)\n",
    "\n",
    "-OpenCV'de kontur bulma işlemi siyah zeminde beyaz nesne bulmak gibidir.Unutulmamalıdır ki bulunması gereken nesne beyaz arka plan siyah olmalıdır. (cv2.drawContours)\n",
    "\n",
    "> konturlarla ilgili birçok özelliği bu sitede bulabilirsiniz \n",
    "https://docs.opencv.org/master/dd/d49/tutorial_py_contour_features.html"
   ]
  },
  {
   "cell_type": "code",
   "execution_count": 2,
   "metadata": {},
   "outputs": [],
   "source": [
    "import cv2\n",
    "import numpy as np"
   ]
  },
  {
   "cell_type": "code",
   "execution_count": 5,
   "metadata": {},
   "outputs": [],
   "source": [
    "img = cv2.imread(\"resimler/2.1 contour1.png.png\")\n",
    "\n",
    "gray = cv2.cvtColor(img,cv2.COLOR_BGR2GRAY) # gri resim elde ettik\n",
    "\n",
    "ret,thresh = cv2.threshold(gray,127,255,cv2.THRESH_BINARY) #threshold ile resimi siyah beyaza çevirdik\n",
    "\n",
    "#burada kordinatları buluyoruz\n",
    "contours,_ = cv2.findContours(thresh,cv2.RETR_TREE,cv2.CHAIN_APPROX_SIMPLE) #toplamda iki değer döndürüyor son değer bizim işimize yaramıyor şuanlık\n",
    "\n",
    "    #burada bulunan kordinatları birbirine bağlıyor\n",
    "    #3. sırada girilen argüman çizilecek bölgeyi temsil ediyor;\n",
    "    #1 = iç bölge\n",
    "    #0 = dış bölge\n",
    "    #-1 = hem iç hem dış\n",
    "cv2.drawContours(img,contours,1,(0,0,255),2)\n",
    "\n",
    "\n",
    "cv2.imshow(\"contour\",img)\n",
    "cv2.waitKey(0)\n",
    "cv2.destroyAllWindows()"
   ]
  },
  {
   "cell_type": "markdown",
   "metadata": {},
   "source": [
    "## Nesnelerin izini sürme "
   ]
  },
  {
   "cell_type": "markdown",
   "metadata": {},
   "source": [
    "## HSV renk alanı\n",
    " > HSV (ton, doygunluk, değer) renk alanı, RGB renk modeline benzer renk uzayını temsil eden bir modeldir. Ton kanalı renk türünü modellediğinden, nesneleri rengine göre bölümlere ayırması gereken görüntü işleme görevlerinde çok kullanışlıdır. Doygunluğun değişimi, doymamıştan gri tonlarını ve tamamen doygunluğu temsil eder (beyaz bileşen yok). Değer kanalı, rengin parlaklığını veya yoğunluğunu tanımlar. Sonraki resim HSV silindirini göstermektedir.\n",
    " ###### nesne takibi gibi uygulamalarda çok kullanışlıdır"
   ]
  },
  {
   "cell_type": "code",
   "execution_count": 3,
   "metadata": {},
   "outputs": [],
   "source": [
    "#cap = cv2.VideoCapture(\"4.2 dog.mp4.mp4\") #videoyu klasörden çektik\n",
    "cap =  cv2.VideoCapture(0)\n",
    "while True :\n",
    "    ret,frame = cap.read() # Her kareyi al\n",
    "    \n",
    "    frame = cv2.flip(frame,1)\n",
    "    if ret==0:\n",
    "        break\n",
    "    \n",
    "    hsv = cv2.cvtColor(frame,cv2.COLOR_BGR2HSV) #FRAME hsv ye çevrildi\n",
    "    \n",
    "    #beyaz renkliler için hsv aralığını googledan bulunabilir\n",
    "    #sensitivity = 15\n",
    "    #lower_white = np.array([0,0,255-sensitivity]) #hsv code for white\n",
    "    #upper_white = np.array([255,sensitivity,255])\n",
    "    \n",
    "    #Opencv temel işlemler bölümünde yaptığın TRACKBAR HSV uygulaması ile aralıkları bulabilirsin\n",
    "    #mavi nesne takibi\n",
    "    blue_lower=np.array([100,80,67],np.uint8) \n",
    "    blue_upper=np.array([130,255,255],np.uint8)\n",
    "    \n",
    "    mask = cv2.inRange(hsv,blue_lower,blue_upper)\n",
    "    \n",
    "    res = cv2.bitwise_and(frame,frame,mask =mask)\n",
    "    \n",
    "    \n",
    "    \n",
    "    cv2.imshow(\"frame\",frame)\n",
    "    cv2.imshow(\"mask\",mask)\n",
    "    cv2.imshow(\"res\",res)\n",
    "    \n",
    "    #burada waitkey içine girlen sayı her bir karenin kaç milisaniye gösterileceğidir\n",
    "    if cv2.waitKey(1) & 0xFF == ord(\"q\"): #0xFF q'nun makine dilinde ki karşılığıdır\n",
    "        break\n",
    "cap.release() \n",
    "cv2.destroyAllWindows()"
   ]
  },
  {
   "cell_type": "markdown",
   "metadata": {},
   "source": [
    "## Geometrik şekillerin ağırlık merkezini bulmak"
   ]
  },
  {
   "cell_type": "markdown",
   "metadata": {},
   "source": [
    "<img src=\"resimler/moments.png\">"
   ]
  },
  {
   "cell_type": "code",
   "execution_count": 20,
   "metadata": {},
   "outputs": [
    {
     "name": "stdout",
     "output_type": "stream",
     "text": [
      "{'m00': 16791750.0, 'm10': 4640847765.0, 'm01': 4655547750.0, 'm20': 2092330675935.0, 'm11': 1286553796530.0, 'm02': 2096949878790.0, 'm30': 1023060712050015.0, 'm21': 578690973793590.0, 'm12': 578556037450440.0, 'm03': 1024358085249960.0, 'mu20': 809708675374.8739, 'mu11': -130936772.85887744, 'mu02': 806189543951.1617, 'mu30': -2779806888337.1533, 'mu21': -1339699325400.6604, 'mu12': -919359307077.4436, 'mu03': -4061116137285.075, 'nu20': 0.0028716854844709322, 'nu11': -4.64375943394979e-07, 'nu02': 0.002859204651629737, 'nu30': -2.4058842409304086e-06, 'nu21': -1.1594911531766886e-06, 'nu12': -7.956927072633584e-07, 'nu03': -3.514839594173024e-06}\n"
     ]
    }
   ],
   "source": [
    "import cv2\n",
    "import numpy as np\n",
    "\n",
    "img = cv2.imread(\"yuvarlak.jpg\")\n",
    " \n",
    "gray = cv2.cvtColor(img,cv2.COLOR_BGR2GRAY) #gray scale\n",
    "\n",
    "_,thresh = cv2.threshold(gray,127,255,cv2.THRESH_BINARY) #binary scale\n",
    "\n",
    "M = cv2.moments(thresh) # içinde bir sözlük saklar\n",
    "print(M)\n",
    "\n",
    "#sözlük içinde saklanan baazı kordinatları kullanıp bi oran sağlayarak merkezi bulmaya çalışıyoruz\n",
    "X = int(M[\"m10\"]/M[\"m00\"])\n",
    "Y = int(M[\"m01\"]/M[\"m00\"])\n",
    "\n",
    "cv2.circle(img,(X,Y),5,(0,255,0),-1)\n",
    "\n",
    "cv2.imshow(\"img\",img)\n",
    "cv2.waitKey(0)\n",
    "cv2.destroyAllWindows()"
   ]
  },
  {
   "cell_type": "markdown",
   "metadata": {},
   "source": [
    "## Resmin Alan ve çevresini bulma\n",
    "> ###### Kontur Alanı\n",
    "Kontur alanı, cv.contourArea () fonksiyonuyla veya momentlerden, M ['m00'] ile verilir ."
   ]
  },
  {
   "cell_type": "code",
   "execution_count": 16,
   "metadata": {},
   "outputs": [
    {
     "name": "stdout",
     "output_type": "stream",
     "text": [
      "contourArea ile şeklin alanı:  16070.5\n",
      "moments ile şeklin alanı:  16070.5\n",
      "şeklin çevresi:  983.6883816719055\n"
     ]
    }
   ],
   "source": [
    "import cv2\n",
    "import numpy as np\n",
    "\n",
    "img = cv2.imread(\"yuvarlak.jpg\")\n",
    " \n",
    "gray = cv2.cvtColor(img,cv2.COLOR_BGR2GRAY) #gray scale\n",
    "\n",
    "ret,thresh = cv2.threshold(gray,127,255,cv2.THRESH_BINARY) #binary scale\n",
    "\n",
    "#burada kordinatları buluyoruz\n",
    "contours,_ = cv2.findContours(thresh,cv2.RETR_TREE,cv2.CHAIN_APPROX_SIMPLE)\n",
    "\n",
    "cnt = contours[0]\n",
    "area = cv2.contourArea(cnt) # contoursları kullanarak alanını hesaplıyor\n",
    "print(\"contourArea ile şeklin alanı: \",area)\n",
    "M = cv2.moments(cnt) # içinde bir sözlük saklar\n",
    "print(\"moments ile şeklin alanı: \",M['m00']) #momentsları kullanrak alanı hesaplıyor\n",
    "\n",
    "#çevre hesaplama\n",
    "perimeter = cv2.arcLength(cnt,True)\n",
    "print(\"şeklin çevresi: \",perimeter)\n",
    "\n",
    "\n",
    "\n",
    "cv2.imshow(\"img\",img)\n",
    "cv2.waitKey(0)\n",
    "cv2.destroyAllWindows()"
   ]
  },
  {
   "cell_type": "markdown",
   "metadata": {},
   "source": [
    "## Dışbükey Gövde\n",
    "> Convex Hull, kontur yaklaşımına benzer görünecektir, ancak değildir (Her ikisi de bazı durumlarda aynı sonuçları verebilir). Burada cv.convexHull () işlevi, dışbükeylik kusurları için bir eğriyi kontrol eder ve düzeltir. Genel olarak konuşursak, dışbükey eğriler, her zaman dışarı çıkıntılı veya en azından düz olan eğrilerdir. Ve içeride şişkinse, buna dışbükey kusurlar denir. Örneğin, aşağıdaki el resmine bakın. Kırmızı çizgi, elin dışbükey gövdesini gösterir. Çift taraflı ok işaretleri, gövdenin dış hatlardan yerel maksimum sapmaları olan dışbükeylik kusurlarını gösterir.\n",
    "\n",
    "<img src=\"resimler/convexHull.jpg\">\n"
   ]
  },
  {
   "cell_type": "code",
   "execution_count": 10,
   "metadata": {},
   "outputs": [
    {
     "name": "stdout",
     "output_type": "stream",
     "text": [
      "(622, 640)\n"
     ]
    }
   ],
   "source": [
    "import cv2\n",
    "import numpy as np\n",
    "\n",
    "img = cv2.imread(\"8.1 map.jpg.jpg\")\n",
    "\n",
    "gray = cv2.cvtColor(img, cv2.COLOR_BGR2GRAY) #gray scale\n",
    "blur = cv2.blur(gray,(3,3))\n",
    "ret,thresh = cv2.threshold(blur,40,255,cv2.THRESH_BINARY)  #binary scale\n",
    "print(thresh.shape)\n",
    "contours,hierarchy = cv2.findContours(thresh,cv2.RETR_TREE,cv2.CHAIN_APPROX_SIMPLE)\n",
    "\n",
    "hull = [] #contour ile bulduğumuz noktaları hull içerisinde saklanacak\n",
    "\n",
    "for i in range(len(contours)): # contours uzunluğu kadar bir aralık oluşturulacak\n",
    "    hull.append(cv2.convexHull(contours[i],False))\n",
    "\n",
    "bg = np.zeros((thresh.shape[0],thresh.shape[1],3),np.uint8) # contours[i] içindeki değer döndürelecek false yazılmaz ise indis döndürülür\n",
    "\n",
    "for i in range(len(contours)):\n",
    "    cv2.drawContours(bg,contours,i,(255,0,0),3,8) # haritanın konturları çizildi\n",
    "    cv2.drawContours(bg,hull,i,(0,255,0),1,8) # Dışbükey konturlar çizildi\n",
    "    \n",
    "\n",
    "\n",
    "res = cv2.bitwise_or(bg,img) #\n",
    "\n",
    "cv2.imshow(\"Image\",bg)\n",
    "cv2.imshow(\"res\",res)\n",
    "\n",
    "\n",
    "\n",
    "cv2.waitKey(0)\n",
    "cv2.destroyAllWindows()"
   ]
  },
  {
   "cell_type": "markdown",
   "metadata": {},
   "source": [
    "## Convex Hull Dışbukey Kusurlar"
   ]
  },
  {
   "cell_type": "code",
   "execution_count": 1,
   "metadata": {},
   "outputs": [],
   "source": [
    "import cv2\n",
    "import numpy as np\n",
    "\n",
    "img =cv2.imread(\"9.1 star.png.png\")\n",
    "\n",
    "gray = cv2.cvtColor(img,cv2.COLOR_BGR2GRAY) #gray scale\n",
    "\n",
    "#ret,thresh = cv2.threshold(blur,40,255,cv2.THRESH_BINARY)   #binary scale\n",
    "#contours,_ = cv2.findContours(thresh,cv2.RETR_TREE,cv2.CHAIN_APPROX_SIMPLE)\n",
    "#'NoneType' object has no attribute 'shape'\n",
    "\n",
    "_,thresh = cv2.threshold(gray,127,255,0) #binary scale\n",
    "contours,_ = cv2.findContours(thresh,2,1) \n",
    "cnt = contours[0]\n",
    "\n",
    "hull =cv2.convexHull(cnt, returnPoints = False) # hull değişkinin içerisinde kontursun sıfırıncı değerleri saklanır\n",
    "defects = cv2.convexityDefects(cnt,hull) # kusurları arıyoruz\n",
    "\n",
    "for i in range(defects.shape[0]): # defect boyutunu sıfırıncı elemanı kadar değer dönsün\n",
    "    s, e, f, d = defects[i,0]  # tuple olarak içerisinde başlangıç,bitiş,uzaklık ve mesafe bilgileini içerir\n",
    "    start = tuple(cnt[s][0])\n",
    "    end = tuple(cnt[e][0])\n",
    "    far = tuple(cnt[f][0])\n",
    "    cv2.line(img,start,end,[0,255,0],2) #line çiziyoruz\n",
    "    cv2.circle(img,far,5,[0,255,0],-1) #uzaklık noktasına çember çiziyoruz\n",
    "\n",
    "cv2.imshow(\"img\",img)\n",
    "cv2.waitKey(0)\n",
    "cv2.destroyAllWindows()\n"
   ]
  }
 ],
 "metadata": {
  "kernelspec": {
   "display_name": "Python 3",
   "language": "python",
   "name": "python3"
  },
  "language_info": {
   "codemirror_mode": {
    "name": "ipython",
    "version": 3
   },
   "file_extension": ".py",
   "mimetype": "text/x-python",
   "name": "python",
   "nbconvert_exporter": "python",
   "pygments_lexer": "ipython3",
   "version": "3.8.3"
  }
 },
 "nbformat": 4,
 "nbformat_minor": 4
}
